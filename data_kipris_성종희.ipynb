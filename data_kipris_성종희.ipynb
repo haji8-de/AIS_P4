{
  "cells": [
    {
      "cell_type": "code",
      "execution_count": null,
      "metadata": {
        "id": "4CcTgpxw6Aai"
      },
      "outputs": [],
      "source": [
        "import numpy as np\n",
        "import pandas as pd\n",
        "import matplotlib.pyplot as plt\n",
        "import seaborn as sns"
      ]
    },
    {
      "cell_type": "code",
      "source": [
        "!pip install koreanize-matplotlib\n",
        "import koreanize_matplotlib\n",
        "\n",
        "%config InlineBackend.figure_format = 'retina'"
      ],
      "metadata": {
        "colab": {
          "base_uri": "https://localhost:8080/"
        },
        "id": "unyCAJ10tsrK",
        "outputId": "ad96bff7-5824-41c4-8238-1cfbab4b6120"
      },
      "execution_count": null,
      "outputs": [
        {
          "output_type": "stream",
          "name": "stdout",
          "text": [
            "Looking in indexes: https://pypi.org/simple, https://us-python.pkg.dev/colab-wheels/public/simple/\n",
            "Requirement already satisfied: koreanize-matplotlib in /usr/local/lib/python3.8/dist-packages (0.1.1)\n",
            "Requirement already satisfied: matplotlib in /usr/local/lib/python3.8/dist-packages (from koreanize-matplotlib) (3.2.2)\n",
            "Requirement already satisfied: python-dateutil>=2.1 in /usr/local/lib/python3.8/dist-packages (from matplotlib->koreanize-matplotlib) (2.8.2)\n",
            "Requirement already satisfied: numpy>=1.11 in /usr/local/lib/python3.8/dist-packages (from matplotlib->koreanize-matplotlib) (1.21.6)\n",
            "Requirement already satisfied: cycler>=0.10 in /usr/local/lib/python3.8/dist-packages (from matplotlib->koreanize-matplotlib) (0.11.0)\n",
            "Requirement already satisfied: pyparsing!=2.0.4,!=2.1.2,!=2.1.6,>=2.0.1 in /usr/local/lib/python3.8/dist-packages (from matplotlib->koreanize-matplotlib) (3.0.9)\n",
            "Requirement already satisfied: kiwisolver>=1.0.1 in /usr/local/lib/python3.8/dist-packages (from matplotlib->koreanize-matplotlib) (1.4.4)\n",
            "Requirement already satisfied: six>=1.5 in /usr/local/lib/python3.8/dist-packages (from python-dateutil>=2.1->matplotlib->koreanize-matplotlib) (1.15.0)\n"
          ]
        }
      ]
    },
    {
      "cell_type": "code",
      "execution_count": null,
      "metadata": {
        "id": "eFKC0rSZqNsO",
        "colab": {
          "base_uri": "https://localhost:8080/"
        },
        "outputId": "e4e22f5a-3fff-4065-d678-939bda1d82cb"
      },
      "outputs": [
        {
          "output_type": "stream",
          "name": "stdout",
          "text": [
            "Drive already mounted at /gdrive; to attempt to forcibly remount, call drive.mount(\"/gdrive\", force_remount=True).\n"
          ]
        }
      ],
      "source": [
        "from google.colab import drive\n",
        "drive.mount('/gdrive')"
      ]
    },
    {
      "cell_type": "code",
      "source": [
        "import os\n",
        "news2020 = pd.read_csv(\"/gdrive/My Drive/Colab Notebooks/data/pet/2020.01.01_2020.12.31_1.csv\")\n",
        "news2021 = pd.read_csv(\"/gdrive/My Drive/Colab Notebooks/data/pet/2021.01.01_2021.12.31_1.csv\")\n",
        "news2022 = pd.read_csv(\"/gdrive/My Drive/Colab Notebooks/data/pet/2022.01.01_2022.12.25_1.csv\")\n",
        "kipris = pd.read_csv(\"/gdrive/My Drive/Colab Notebooks/data/pet/kipris.csv\")"
      ],
      "metadata": {
        "id": "4XLDbfBZ1t6J"
      },
      "execution_count": null,
      "outputs": []
    },
    {
      "cell_type": "code",
      "source": [
        "kipris.isnull().sum()"
      ],
      "metadata": {
        "colab": {
          "base_uri": "https://localhost:8080/"
        },
        "id": "nTcv1UM72hXY",
        "outputId": "17f26c9c-3d61-4f92-9420-9066b186dbab"
      },
      "execution_count": null,
      "outputs": [
        {
          "output_type": "execute_result",
          "data": {
            "text/plain": [
              "대표도면         7481\n",
              "출원번호            0\n",
              "발명의명칭           0\n",
              "발명의명칭(영문)      12\n",
              "상태              0\n",
              "IPC분류           0\n",
              "출원인             0\n",
              "대리인           510\n",
              "발명자             0\n",
              "출원일자            0\n",
              "등록번호         4341\n",
              "등록일자         4341\n",
              "공개번호         1120\n",
              "공개일자         1120\n",
              "dtype: int64"
            ]
          },
          "metadata": {},
          "execution_count": 5
        }
      ]
    },
    {
      "cell_type": "code",
      "source": [
        "kipris = kipris[[\"발명의명칭\", \"출원일자\"]]\n",
        "kipris.shape"
      ],
      "metadata": {
        "colab": {
          "base_uri": "https://localhost:8080/"
        },
        "id": "4TXovfuKqiPf",
        "outputId": "2bbeee2e-bb26-40f4-867f-cfdb07fbe39f"
      },
      "execution_count": null,
      "outputs": [
        {
          "output_type": "execute_result",
          "data": {
            "text/plain": [
              "(7481, 2)"
            ]
          },
          "metadata": {},
          "execution_count": 6
        }
      ]
    },
    {
      "cell_type": "code",
      "source": [
        "kipris[\"출원일자\"] = pd.to_datetime(kipris[\"출원일자\"])"
      ],
      "metadata": {
        "id": "P3c9ya4-qrzw"
      },
      "execution_count": null,
      "outputs": []
    },
    {
      "cell_type": "code",
      "source": [
        "kipris[\"출원일자\"] = kipris[\"출원일자\"].dt.year"
      ],
      "metadata": {
        "id": "AkM9tRBZrBw_"
      },
      "execution_count": null,
      "outputs": []
    },
    {
      "cell_type": "code",
      "source": [
        "kipris.columns = ['제목', '날짜']"
      ],
      "metadata": {
        "id": "W10i-kMX2nsA"
      },
      "execution_count": null,
      "outputs": []
    },
    {
      "cell_type": "code",
      "source": [
        "import re\n",
        "\n",
        "def preprocessing(text):\n",
        "    text = re.sub(r\"[^가-힣0-9\\s]\", \" \", text) #한글이랑 숫자, 공백만 남기기\n",
        "    text = re.sub(r\"\\s+\", \" \", text) #중복 공백 없애기\n",
        "    text = text.strip() #앞뒤 공백 없애기\n",
        "    return text"
      ],
      "metadata": {
        "id": "_u8LDKsjF7ut"
      },
      "execution_count": null,
      "outputs": []
    },
    {
      "cell_type": "code",
      "source": [
        "from tqdm import tqdm\n",
        "tqdm.pandas()\n",
        "\n",
        "kipris[\"제목\"] = kipris[\"제목\"].progress_map(preprocessing)"
      ],
      "metadata": {
        "colab": {
          "base_uri": "https://localhost:8080/"
        },
        "id": "PNoz6sA1F8-N",
        "outputId": "8028fda7-39e2-4c2a-eda2-6ae0f970fd42"
      },
      "execution_count": null,
      "outputs": [
        {
          "output_type": "stream",
          "name": "stderr",
          "text": [
            "100%|██████████| 7481/7481 [00:00<00:00, 64873.69it/s]\n"
          ]
        }
      ]
    },
    {
      "cell_type": "code",
      "source": [
        "kipris.duplicated(subset=[\"제목\"]).sum()"
      ],
      "metadata": {
        "colab": {
          "base_uri": "https://localhost:8080/"
        },
        "id": "UGd7xPRg8xKY",
        "outputId": "1532d490-fa32-435e-9141-3e7ac3497f3f"
      },
      "execution_count": null,
      "outputs": [
        {
          "output_type": "execute_result",
          "data": {
            "text/plain": [
              "997"
            ]
          },
          "metadata": {},
          "execution_count": 12
        }
      ]
    },
    {
      "cell_type": "code",
      "source": [
        "kipris = kipris.drop_duplicates(['제목'])"
      ],
      "metadata": {
        "id": "ziAZbMHd82wG"
      },
      "execution_count": null,
      "outputs": []
    },
    {
      "cell_type": "code",
      "source": [
        "sns.countplot(data=kipris, x=\"날짜\");"
      ],
      "metadata": {
        "colab": {
          "base_uri": "https://localhost:8080/",
          "height": 279
        },
        "id": "t1mgKj2srzL_",
        "outputId": "4e484cbd-3f88-4642-d33e-7ccf488ddbba"
      },
      "execution_count": null,
      "outputs": [
        {
          "output_type": "display_data",
          "data": {
            "text/plain": [
              "<Figure size 432x288 with 1 Axes>"
            ],
            "image/png": "[encoded data removed]"
          },
          "metadata": {
            "image/png": {
              "width": 400,
              "height": 262
            },
            "needs_background": "light"
          }
        }
      ]
    },
    {
      "cell_type": "code",
      "source": [
        "news2020[\"날짜\"] = 2020\n",
        "news2021[\"날짜\"] = 2021\n",
        "news2022[\"날짜\"] = 2022"
      ],
      "metadata": {
        "id": "anK61KuUt0PZ"
      },
      "execution_count": null,
      "outputs": []
    },
    {
      "cell_type": "code",
      "source": [
        "news = pd.concat([news2020, news2021, news2022])"
      ],
      "metadata": {
        "id": "S59zf8UPvyM3"
      },
      "execution_count": null,
      "outputs": []
    },
    {
      "cell_type": "code",
      "source": [
        "news.rename(columns = {'0' : '제목'}, inplace = True)"
      ],
      "metadata": {
        "id": "KdlfUWVRwKmh"
      },
      "execution_count": null,
      "outputs": []
    },
    {
      "cell_type": "code",
      "source": [
        "news[\"제목\"] = news[\"제목\"].progress_map(preprocessing)"
      ],
      "metadata": {
        "colab": {
          "base_uri": "https://localhost:8080/"
        },
        "id": "qzmnsfQWGQrO",
        "outputId": "e2448ad2-a85a-4f0b-94fe-6c29d4b71726"
      },
      "execution_count": null,
      "outputs": [
        {
          "output_type": "stream",
          "name": "stderr",
          "text": [
            "100%|██████████| 12000/12000 [00:00<00:00, 122002.81it/s]\n"
          ]
        }
      ]
    },
    {
      "cell_type": "code",
      "source": [
        "news.duplicated(subset=[\"제목\"]).sum()"
      ],
      "metadata": {
        "colab": {
          "base_uri": "https://localhost:8080/"
        },
        "id": "qwHsv41O5q_5",
        "outputId": "b09324c4-0f98-4e8f-f0e4-48e8380784f7"
      },
      "execution_count": null,
      "outputs": [
        {
          "output_type": "execute_result",
          "data": {
            "text/plain": [
              "3681"
            ]
          },
          "metadata": {},
          "execution_count": 19
        }
      ]
    },
    {
      "cell_type": "code",
      "source": [
        "news = news.drop_duplicates(['제목'])"
      ],
      "metadata": {
        "id": "DbnfXzPK98Xe"
      },
      "execution_count": null,
      "outputs": []
    },
    {
      "cell_type": "code",
      "source": [
        "news[\"분류\"] = \"뉴스\"\n",
        "kipris[\"분류\"] = \"특허\""
      ],
      "metadata": {
        "colab": {
          "base_uri": "https://localhost:8080/"
        },
        "id": "Yi-y_ObUquUB",
        "outputId": "8ffe1ff3-1c5c-4673-99f1-7c013fbbabef"
      },
      "execution_count": null,
      "outputs": [
        {
          "output_type": "stream",
          "name": "stderr",
          "text": [
            "<ipython-input-21-b848c1f2da48>:1: SettingWithCopyWarning: \n",
            "A value is trying to be set on a copy of a slice from a DataFrame.\n",
            "Try using .loc[row_indexer,col_indexer] = value instead\n",
            "\n",
            "See the caveats in the documentation: https://pandas.pydata.org/pandas-docs/stable/user_guide/indexing.html#returning-a-view-versus-a-copy\n",
            "  news[\"분류\"] = \"뉴스\"\n"
          ]
        }
      ]
    },
    {
      "cell_type": "code",
      "source": [
        "df = pd.concat([news, kipris])\n",
        "df = df.reset_index(drop=True, inplace=False)\n",
        "df"
      ],
      "metadata": {
        "colab": {
          "base_uri": "https://localhost:8080/",
          "height": 423
        },
        "id": "9tPCo_HJ2hTJ",
        "outputId": "542caf00-1ed8-4e6a-91b9-011ddb08678b"
      },
      "execution_count": null,
      "outputs": [
        {
          "output_type": "execute_result",
          "data": {
            "text/plain": [
              "                                          제목    날짜  분류\n",
              "0                    은평구 반려동물 문화교실 댕댕이 스쿨 운영  2020  뉴스\n",
              "1          새해부터 반려동물 미용사 나무의사도 신중년 고용장려금 받는다  2020  뉴스\n",
              "2                            반려식물로 코로나 우울 해소  2020  뉴스\n",
              "3                   우리 아이와 반려동물 함께 생활해도 괜찮을까  2020  뉴스\n",
              "4         영상 반려동물 식품의 세계화 정부지원 받아 글로벌기업으로 우뚝  2020  뉴스\n",
              "...                                      ...   ...  ..\n",
              "14798  펫 금융 계좌를 이용한 펫 금융 서비스 제공 장치 및 그 동작 방법  2021  특허\n",
              "14799             맞춤형 추천 서비스를 제공하는 온라인 판매 방법  2018  특허\n",
              "14800                              자동 물내림 장치  2018  특허\n",
              "14801                     애완동물 리드줄 제어장치 및 방법  2020  특허\n",
              "14802            애완동물 커뮤니티 서비스를 제공하는 장치 및 방법  2020  특허\n",
              "\n",
              "[14803 rows x 3 columns]"
            ],
            "text/html": [
              "\n",
              "  <div id=\"df-83b54c03-463d-45cb-b1b6-84956f4d4d1e\">\n",
              "    <div class=\"colab-df-container\">\n",
              "      <div>\n",
              "<style scoped>\n",
              "    .dataframe tbody tr th:only-of-type {\n",
              "        vertical-align: middle;\n",
              "    }\n",
              "\n",
              "    .dataframe tbody tr th {\n",
              "        vertical-align: top;\n",
              "    }\n",
              "\n",
              "    .dataframe thead th {\n",
              "        text-align: right;\n",
              "    }\n",
              "</style>\n",
              "<table border=\"1\" class=\"dataframe\">\n",
              "  <thead>\n",
              "    <tr style=\"text-align: right;\">\n",
              "      <th></th>\n",
              "      <th>제목</th>\n",
              "      <th>날짜</th>\n",
              "      <th>분류</th>\n",
              "    </tr>\n",
              "  </thead>\n",
              "  <tbody>\n",
              "    <tr>\n",
              "      <th>0</th>\n",
              "      <td>은평구 반려동물 문화교실 댕댕이 스쿨 운영</td>\n",
              "      <td>2020</td>\n",
              "      <td>뉴스</td>\n",
              "    </tr>\n",
              "    <tr>\n",
              "      <th>1</th>\n",
              "      <td>새해부터 반려동물 미용사 나무의사도 신중년 고용장려금 받는다</td>\n",
              "      <td>2020</td>\n",
              "      <td>뉴스</td>\n",
              "    </tr>\n",
              "    <tr>\n",
              "      <th>2</th>\n",
              "      <td>반려식물로 코로나 우울 해소</td>\n",
              "      <td>2020</td>\n",
              "      <td>뉴스</td>\n",
              "    </tr>\n",
              "    <tr>\n",
              "      <th>3</th>\n",
              "      <td>우리 아이와 반려동물 함께 생활해도 괜찮을까</td>\n",
              "      <td>2020</td>\n",
              "      <td>뉴스</td>\n",
              "    </tr>\n",
              "    <tr>\n",
              "      <th>4</th>\n",
              "      <td>영상 반려동물 식품의 세계화 정부지원 받아 글로벌기업으로 우뚝</td>\n",
              "      <td>2020</td>\n",
              "      <td>뉴스</td>\n",
              "    </tr>\n",
              "    <tr>\n",
              "      <th>...</th>\n",
              "      <td>...</td>\n",
              "      <td>...</td>\n",
              "      <td>...</td>\n",
              "    </tr>\n",
              "    <tr>\n",
              "      <th>14798</th>\n",
              "      <td>펫 금융 계좌를 이용한 펫 금융 서비스 제공 장치 및 그 동작 방법</td>\n",
              "      <td>2021</td>\n",
              "      <td>특허</td>\n",
              "    </tr>\n",
              "    <tr>\n",
              "      <th>14799</th>\n",
              "      <td>맞춤형 추천 서비스를 제공하는 온라인 판매 방법</td>\n",
              "      <td>2018</td>\n",
              "      <td>특허</td>\n",
              "    </tr>\n",
              "    <tr>\n",
              "      <th>14800</th>\n",
              "      <td>자동 물내림 장치</td>\n",
              "      <td>2018</td>\n",
              "      <td>특허</td>\n",
              "    </tr>\n",
              "    <tr>\n",
              "      <th>14801</th>\n",
              "      <td>애완동물 리드줄 제어장치 및 방법</td>\n",
              "      <td>2020</td>\n",
              "      <td>특허</td>\n",
              "    </tr>\n",
              "    <tr>\n",
              "      <th>14802</th>\n",
              "      <td>애완동물 커뮤니티 서비스를 제공하는 장치 및 방법</td>\n",
              "      <td>2020</td>\n",
              "      <td>특허</td>\n",
              "    </tr>\n",
              "  </tbody>\n",
              "</table>\n",
              "<p>14803 rows × 3 columns</p>\n",
              "</div>\n",
              "      <button class=\"colab-df-convert\" onclick=\"convertToInteractive('df-83b54c03-463d-45cb-b1b6-84956f4d4d1e')\"\n",
              "              title=\"Convert this dataframe to an interactive table.\"\n",
              "              style=\"display:none;\">\n",
              "        \n",
              "  <svg xmlns=\"http://www.w3.org/2000/svg\" height=\"24px\"viewBox=\"0 0 24 24\"\n",
              "       width=\"24px\">\n",
              "    <path d=\"M0 0h24v24H0V0z\" fill=\"none\"/>\n",
              "    <path d=\"M18.56 5.44l.94 2.06.94-2.06 2.06-.94-2.06-.94-.94-2.06-.94 2.06-2.06.94zm-11 1L8.5 8.5l.94-2.06 2.06-.94-2.06-.94L8.5 2.5l-.94 2.06-2.06.94zm10 10l.94 2.06.94-2.06 2.06-.94-2.06-.94-.94-2.06-.94 2.06-2.06.94z\"/><path d=\"M17.41 7.96l-1.37-1.37c-.4-.4-.92-.59-1.43-.59-.52 0-1.04.2-1.43.59L10.3 9.45l-7.72 7.72c-.78.78-.78 2.05 0 2.83L4 21.41c.39.39.9.59 1.41.59.51 0 1.02-.2 1.41-.59l7.78-7.78 2.81-2.81c.8-.78.8-2.07 0-2.86zM5.41 20L4 18.59l7.72-7.72 1.47 1.35L5.41 20z\"/>\n",
              "  </svg>\n",
              "      </button>\n",
              "      \n",
              "  <style>\n",
              "    .colab-df-container {\n",
              "      display:flex;\n",
              "      flex-wrap:wrap;\n",
              "      gap: 12px;\n",
              "    }\n",
              "\n",
              "    .colab-df-convert {\n",
              "      background-color: #E8F0FE;\n",
              "      border: none;\n",
              "      border-radius: 50%;\n",
              "      cursor: pointer;\n",
              "      display: none;\n",
              "      fill: #1967D2;\n",
              "      height: 32px;\n",
              "      padding: 0 0 0 0;\n",
              "      width: 32px;\n",
              "    }\n",
              "\n",
              "    .colab-df-convert:hover {\n",
              "      background-color: #E2EBFA;\n",
              "      box-shadow: 0px 1px 2px rgba(60, 64, 67, 0.3), 0px 1px 3px 1px rgba(60, 64, 67, 0.15);\n",
              "      fill: #174EA6;\n",
              "    }\n",
              "\n",
              "    [theme=dark] .colab-df-convert {\n",
              "      background-color: #3B4455;\n",
              "      fill: #D2E3FC;\n",
              "    }\n",
              "\n",
              "    [theme=dark] .colab-df-convert:hover {\n",
              "      background-color: #434B5C;\n",
              "      box-shadow: 0px 1px 3px 1px rgba(0, 0, 0, 0.15);\n",
              "      filter: drop-shadow(0px 1px 2px rgba(0, 0, 0, 0.3));\n",
              "      fill: #FFFFFF;\n",
              "    }\n",
              "  </style>\n",
              "\n",
              "      <script>\n",
              "        const buttonEl =\n",
              "          document.querySelector('#df-83b54c03-463d-45cb-b1b6-84956f4d4d1e button.colab-df-convert');\n",
              "        buttonEl.style.display =\n",
              "          google.colab.kernel.accessAllowed ? 'block' : 'none';\n",
              "\n",
              "        async function convertToInteractive(key) {\n",
              "          const element = document.querySelector('#df-83b54c03-463d-45cb-b1b6-84956f4d4d1e');\n",
              "          const dataTable =\n",
              "            await google.colab.kernel.invokeFunction('convertToInteractive',\n",
              "                                                     [key], {});\n",
              "          if (!dataTable) return;\n",
              "\n",
              "          const docLinkHtml = 'Like what you see? Visit the ' +\n",
              "            '<a target=\"_blank\" href=https://colab.research.google.com/notebooks/data_table.ipynb>data table notebook</a>'\n",
              "            + ' to learn more about interactive tables.';\n",
              "          element.innerHTML = '';\n",
              "          dataTable['output_type'] = 'display_data';\n",
              "          await google.colab.output.renderOutput(dataTable, element);\n",
              "          const docLink = document.createElement('div');\n",
              "          docLink.innerHTML = docLinkHtml;\n",
              "          element.appendChild(docLink);\n",
              "        }\n",
              "      </script>\n",
              "    </div>\n",
              "  </div>\n",
              "  "
            ]
          },
          "metadata": {},
          "execution_count": 22
        }
      ]
    },
    {
      "cell_type": "code",
      "source": [
        "df.isnull().sum()"
      ],
      "metadata": {
        "colab": {
          "base_uri": "https://localhost:8080/"
        },
        "id": "l4_e7ub53Bas",
        "outputId": "5c1f6516-93eb-4a0f-c1d5-831d18825828"
      },
      "execution_count": null,
      "outputs": [
        {
          "output_type": "execute_result",
          "data": {
            "text/plain": [
              "제목    0\n",
              "날짜    0\n",
              "분류    0\n",
              "dtype: int64"
            ]
          },
          "metadata": {},
          "execution_count": 23
        }
      ]
    },
    {
      "cell_type": "code",
      "source": [
        "df.duplicated(subset=[\"제목\"]).sum()"
      ],
      "metadata": {
        "colab": {
          "base_uri": "https://localhost:8080/"
        },
        "id": "POYgmW9M9_Ff",
        "outputId": "3c0d1195-b341-454b-e949-7729f697f17c"
      },
      "execution_count": null,
      "outputs": [
        {
          "output_type": "execute_result",
          "data": {
            "text/plain": [
              "0"
            ]
          },
          "metadata": {},
          "execution_count": 24
        }
      ]
    },
    {
      "cell_type": "code",
      "source": [
        "df.to_csv(\"/gdrive/My Drive/Colab Notebooks/data/pet/data.csv\")"
      ],
      "metadata": {
        "id": "9HV-kJveQSby"
      },
      "execution_count": null,
      "outputs": []
    },
    {
      "cell_type": "code",
      "source": [
        "df.sample(20)"
      ],
      "metadata": {
        "colab": {
          "base_uri": "https://localhost:8080/",
          "height": 676
        },
        "id": "9EjLMP4UtGou",
        "outputId": "c92ccbc4-10bc-4601-a408-2ed187ed05f6"
      },
      "execution_count": null,
      "outputs": [
        {
          "output_type": "execute_result",
          "data": {
            "text/plain": [
              "                                             제목    날짜  분류\n",
              "9607        반려 동물을 위한 위치 기반의 하울링 서비스 제공 방법 및 서버  2022  특허\n",
              "5414               변화 이룰 수만 있다면 청년 정체성 적극 활용하겠다  2021  뉴스\n",
              "12645         천연 점액질을 이용하여 성형되는 자연식 사료 및 그 제조방법  2015  특허\n",
              "3711         우송정보대 과학기술대 농림축산식품부 동물보건사 인증 평가 획득  2021  뉴스\n",
              "4628       대구보건고등학교 반려동물케어과 동아리 반려동물 진료비 후원금 전달  2021  뉴스\n",
              "13627                                        화분  2017  특허\n",
              "4242                  아모레퍼시픽 반려동물 라이프스타일 브랜드 론칭  2021  뉴스\n",
              "6972          부산경상대 반려동물보건 산업과 반려동물 자연식 경진대회 개최  2022  뉴스\n",
              "2796          공감 반려동물 용인시 기흥호수공원 도시숲 과 반려동물 놀이터  2020  뉴스\n",
              "487    아주 각별한 기행 임종덕씨 반려마 흑진주 신나는 질주 곽수연의 특별한 동  2020  뉴스\n",
              "5434                 스타필드 반려동물과 함께하는 펫 핼러윈 페스티벌  2021  뉴스\n",
              "8398                            반려동물 사체의 퇴비화 방법  2021  특허\n",
              "5612     비엔지티 가축 전염성 바이러스 신속 체외진단 플랫폼 개발완료 반려동물  2022  뉴스\n",
              "13686                          공기정화 기능을 갖는 안마의자  2017  특허\n",
              "6149               신장 심장 소화기 아픈 반려동물 영양학적 관리 중요  2022  뉴스\n",
              "2642       반려동물 자동급식기 자동급수기 페토이 기술역량우수기업 인증 4등급  2020  뉴스\n",
              "2865              피카노리 2021 대한민국 반려동물 브랜드 대상 수상  2021  뉴스\n",
              "6388      대전시 반려동물 정책 욕구조사 결과 발표 양육기간 1 5년 46 2  2022  뉴스\n",
              "6755                     반려견도 디스크에 걸려요 따듯한 동물사전  2022  뉴스\n",
              "2766           세상에이런일이 자수 공예 달인 사진같은 반려동물에 감탄 3  2020  뉴스"
            ],
            "text/html": [
              "\n",
              "  <div id=\"df-d9d285ac-1418-4fbc-a55e-a5f3e12df5d4\">\n",
              "    <div class=\"colab-df-container\">\n",
              "      <div>\n",
              "<style scoped>\n",
              "    .dataframe tbody tr th:only-of-type {\n",
              "        vertical-align: middle;\n",
              "    }\n",
              "\n",
              "    .dataframe tbody tr th {\n",
              "        vertical-align: top;\n",
              "    }\n",
              "\n",
              "    .dataframe thead th {\n",
              "        text-align: right;\n",
              "    }\n",
              "</style>\n",
              "<table border=\"1\" class=\"dataframe\">\n",
              "  <thead>\n",
              "    <tr style=\"text-align: right;\">\n",
              "      <th></th>\n",
              "      <th>제목</th>\n",
              "      <th>날짜</th>\n",
              "      <th>분류</th>\n",
              "    </tr>\n",
              "  </thead>\n",
              "  <tbody>\n",
              "    <tr>\n",
              "      <th>9607</th>\n",
              "      <td>반려 동물을 위한 위치 기반의 하울링 서비스 제공 방법 및 서버</td>\n",
              "      <td>2022</td>\n",
              "      <td>특허</td>\n",
              "    </tr>\n",
              "    <tr>\n",
              "      <th>5414</th>\n",
              "      <td>변화 이룰 수만 있다면 청년 정체성 적극 활용하겠다</td>\n",
              "      <td>2021</td>\n",
              "      <td>뉴스</td>\n",
              "    </tr>\n",
              "    <tr>\n",
              "      <th>12645</th>\n",
              "      <td>천연 점액질을 이용하여 성형되는 자연식 사료 및 그 제조방법</td>\n",
              "      <td>2015</td>\n",
              "      <td>특허</td>\n",
              "    </tr>\n",
              "    <tr>\n",
              "      <th>3711</th>\n",
              "      <td>우송정보대 과학기술대 농림축산식품부 동물보건사 인증 평가 획득</td>\n",
              "      <td>2021</td>\n",
              "      <td>뉴스</td>\n",
              "    </tr>\n",
              "    <tr>\n",
              "      <th>4628</th>\n",
              "      <td>대구보건고등학교 반려동물케어과 동아리 반려동물 진료비 후원금 전달</td>\n",
              "      <td>2021</td>\n",
              "      <td>뉴스</td>\n",
              "    </tr>\n",
              "    <tr>\n",
              "      <th>13627</th>\n",
              "      <td>화분</td>\n",
              "      <td>2017</td>\n",
              "      <td>특허</td>\n",
              "    </tr>\n",
              "    <tr>\n",
              "      <th>4242</th>\n",
              "      <td>아모레퍼시픽 반려동물 라이프스타일 브랜드 론칭</td>\n",
              "      <td>2021</td>\n",
              "      <td>뉴스</td>\n",
              "    </tr>\n",
              "    <tr>\n",
              "      <th>6972</th>\n",
              "      <td>부산경상대 반려동물보건 산업과 반려동물 자연식 경진대회 개최</td>\n",
              "      <td>2022</td>\n",
              "      <td>뉴스</td>\n",
              "    </tr>\n",
              "    <tr>\n",
              "      <th>2796</th>\n",
              "      <td>공감 반려동물 용인시 기흥호수공원 도시숲 과 반려동물 놀이터</td>\n",
              "      <td>2020</td>\n",
              "      <td>뉴스</td>\n",
              "    </tr>\n",
              "    <tr>\n",
              "      <th>487</th>\n",
              "      <td>아주 각별한 기행 임종덕씨 반려마 흑진주 신나는 질주 곽수연의 특별한 동</td>\n",
              "      <td>2020</td>\n",
              "      <td>뉴스</td>\n",
              "    </tr>\n",
              "    <tr>\n",
              "      <th>5434</th>\n",
              "      <td>스타필드 반려동물과 함께하는 펫 핼러윈 페스티벌</td>\n",
              "      <td>2021</td>\n",
              "      <td>뉴스</td>\n",
              "    </tr>\n",
              "    <tr>\n",
              "      <th>8398</th>\n",
              "      <td>반려동물 사체의 퇴비화 방법</td>\n",
              "      <td>2021</td>\n",
              "      <td>특허</td>\n",
              "    </tr>\n",
              "    <tr>\n",
              "      <th>5612</th>\n",
              "      <td>비엔지티 가축 전염성 바이러스 신속 체외진단 플랫폼 개발완료 반려동물</td>\n",
              "      <td>2022</td>\n",
              "      <td>뉴스</td>\n",
              "    </tr>\n",
              "    <tr>\n",
              "      <th>13686</th>\n",
              "      <td>공기정화 기능을 갖는 안마의자</td>\n",
              "      <td>2017</td>\n",
              "      <td>특허</td>\n",
              "    </tr>\n",
              "    <tr>\n",
              "      <th>6149</th>\n",
              "      <td>신장 심장 소화기 아픈 반려동물 영양학적 관리 중요</td>\n",
              "      <td>2022</td>\n",
              "      <td>뉴스</td>\n",
              "    </tr>\n",
              "    <tr>\n",
              "      <th>2642</th>\n",
              "      <td>반려동물 자동급식기 자동급수기 페토이 기술역량우수기업 인증 4등급</td>\n",
              "      <td>2020</td>\n",
              "      <td>뉴스</td>\n",
              "    </tr>\n",
              "    <tr>\n",
              "      <th>2865</th>\n",
              "      <td>피카노리 2021 대한민국 반려동물 브랜드 대상 수상</td>\n",
              "      <td>2021</td>\n",
              "      <td>뉴스</td>\n",
              "    </tr>\n",
              "    <tr>\n",
              "      <th>6388</th>\n",
              "      <td>대전시 반려동물 정책 욕구조사 결과 발표 양육기간 1 5년 46 2</td>\n",
              "      <td>2022</td>\n",
              "      <td>뉴스</td>\n",
              "    </tr>\n",
              "    <tr>\n",
              "      <th>6755</th>\n",
              "      <td>반려견도 디스크에 걸려요 따듯한 동물사전</td>\n",
              "      <td>2022</td>\n",
              "      <td>뉴스</td>\n",
              "    </tr>\n",
              "    <tr>\n",
              "      <th>2766</th>\n",
              "      <td>세상에이런일이 자수 공예 달인 사진같은 반려동물에 감탄 3</td>\n",
              "      <td>2020</td>\n",
              "      <td>뉴스</td>\n",
              "    </tr>\n",
              "  </tbody>\n",
              "</table>\n",
              "</div>\n",
              "      <button class=\"colab-df-convert\" onclick=\"convertToInteractive('df-d9d285ac-1418-4fbc-a55e-a5f3e12df5d4')\"\n",
              "              title=\"Convert this dataframe to an interactive table.\"\n",
              "              style=\"display:none;\">\n",
              "        \n",
              "  <svg xmlns=\"http://www.w3.org/2000/svg\" height=\"24px\"viewBox=\"0 0 24 24\"\n",
              "       width=\"24px\">\n",
              "    <path d=\"M0 0h24v24H0V0z\" fill=\"none\"/>\n",
              "    <path d=\"M18.56 5.44l.94 2.06.94-2.06 2.06-.94-2.06-.94-.94-2.06-.94 2.06-2.06.94zm-11 1L8.5 8.5l.94-2.06 2.06-.94-2.06-.94L8.5 2.5l-.94 2.06-2.06.94zm10 10l.94 2.06.94-2.06 2.06-.94-2.06-.94-.94-2.06-.94 2.06-2.06.94z\"/><path d=\"M17.41 7.96l-1.37-1.37c-.4-.4-.92-.59-1.43-.59-.52 0-1.04.2-1.43.59L10.3 9.45l-7.72 7.72c-.78.78-.78 2.05 0 2.83L4 21.41c.39.39.9.59 1.41.59.51 0 1.02-.2 1.41-.59l7.78-7.78 2.81-2.81c.8-.78.8-2.07 0-2.86zM5.41 20L4 18.59l7.72-7.72 1.47 1.35L5.41 20z\"/>\n",
              "  </svg>\n",
              "      </button>\n",
              "      \n",
              "  <style>\n",
              "    .colab-df-container {\n",
              "      display:flex;\n",
              "      flex-wrap:wrap;\n",
              "      gap: 12px;\n",
              "    }\n",
              "\n",
              "    .colab-df-convert {\n",
              "      background-color: #E8F0FE;\n",
              "      border: none;\n",
              "      border-radius: 50%;\n",
              "      cursor: pointer;\n",
              "      display: none;\n",
              "      fill: #1967D2;\n",
              "      height: 32px;\n",
              "      padding: 0 0 0 0;\n",
              "      width: 32px;\n",
              "    }\n",
              "\n",
              "    .colab-df-convert:hover {\n",
              "      background-color: #E2EBFA;\n",
              "      box-shadow: 0px 1px 2px rgba(60, 64, 67, 0.3), 0px 1px 3px 1px rgba(60, 64, 67, 0.15);\n",
              "      fill: #174EA6;\n",
              "    }\n",
              "\n",
              "    [theme=dark] .colab-df-convert {\n",
              "      background-color: #3B4455;\n",
              "      fill: #D2E3FC;\n",
              "    }\n",
              "\n",
              "    [theme=dark] .colab-df-convert:hover {\n",
              "      background-color: #434B5C;\n",
              "      box-shadow: 0px 1px 3px 1px rgba(0, 0, 0, 0.15);\n",
              "      filter: drop-shadow(0px 1px 2px rgba(0, 0, 0, 0.3));\n",
              "      fill: #FFFFFF;\n",
              "    }\n",
              "  </style>\n",
              "\n",
              "      <script>\n",
              "        const buttonEl =\n",
              "          document.querySelector('#df-d9d285ac-1418-4fbc-a55e-a5f3e12df5d4 button.colab-df-convert');\n",
              "        buttonEl.style.display =\n",
              "          google.colab.kernel.accessAllowed ? 'block' : 'none';\n",
              "\n",
              "        async function convertToInteractive(key) {\n",
              "          const element = document.querySelector('#df-d9d285ac-1418-4fbc-a55e-a5f3e12df5d4');\n",
              "          const dataTable =\n",
              "            await google.colab.kernel.invokeFunction('convertToInteractive',\n",
              "                                                     [key], {});\n",
              "          if (!dataTable) return;\n",
              "\n",
              "          const docLinkHtml = 'Like what you see? Visit the ' +\n",
              "            '<a target=\"_blank\" href=https://colab.research.google.com/notebooks/data_table.ipynb>data table notebook</a>'\n",
              "            + ' to learn more about interactive tables.';\n",
              "          element.innerHTML = '';\n",
              "          dataTable['output_type'] = 'display_data';\n",
              "          await google.colab.output.renderOutput(dataTable, element);\n",
              "          const docLink = document.createElement('div');\n",
              "          docLink.innerHTML = docLinkHtml;\n",
              "          element.appendChild(docLink);\n",
              "        }\n",
              "      </script>\n",
              "    </div>\n",
              "  </div>\n",
              "  "
            ]
          },
          "metadata": {},
          "execution_count": 26
        }
      ]
    },
    {
      "cell_type": "code",
      "source": [],
      "metadata": {
        "id": "s68pYe7utQv0"
      },
      "execution_count": null,
      "outputs": []
    }
  ],
  "metadata": {
    "colab": {
      "machine_shape": "hm",
      "provenance": []
    },
    "kernelspec": {
      "display_name": "Python 3 (ipykernel)",
      "language": "python",
      "name": "python3"
    },
    "language_info": {
      "codemirror_mode": {
        "name": "ipython",
        "version": 3
      },
      "file_extension": ".py",
      "mimetype": "text/x-python",
      "name": "python",
      "nbconvert_exporter": "python",
      "pygments_lexer": "ipython3",
      "version": "3.7.13"
    },
    "toc": {
      "base_numbering": 1,
      "nav_menu": {},
      "number_sections": true,
      "sideBar": true,
      "skip_h1_title": false,
      "title_cell": "Table of Contents",
      "title_sidebar": "Contents",
      "toc_cell": false,
      "toc_position": {
        "height": "calc(100% - 180px)",
        "left": "10px",
        "top": "150px",
        "width": "256px"
      },
      "toc_section_display": true,
      "toc_window_display": false
    },
    "varInspector": {
      "cols": {
        "lenName": 16,
        "lenType": 16,
        "lenVar": 40
      },
      "kernels_config": {
        "python": {
          "delete_cmd_postfix": "",
          "delete_cmd_prefix": "del ",
          "library": "var_list.py",
          "varRefreshCmd": "print(var_dic_list())"
        },
        "r": {
          "delete_cmd_postfix": ") ",
          "delete_cmd_prefix": "rm(",
          "library": "var_list.r",
          "varRefreshCmd": "cat(var_dic_list()) "
        }
      },
      "types_to_exclude": [
        "module",
        "function",
        "builtin_function_or_method",
        "instance",
        "_Feature"
      ],
      "window_display": false
    },
    "gpuClass": "standard"
  },
  "nbformat": 4,
  "nbformat_minor": 0
}