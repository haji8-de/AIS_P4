{
  "nbformat": 4,
  "nbformat_minor": 0,
  "metadata": {
    "colab": {
      "provenance": [],
      "collapsed_sections": [
        "qoQaWFRgdBhR",
        "TpihKjGSjP_Y",
        "8IJeaWGH5HhX"
      ]
    },
    "kernelspec": {
      "name": "python3",
      "display_name": "Python 3"
    },
    "language_info": {
      "name": "python"
    },
    "accelerator": "GPU",
    "gpuClass": "standard"
  },
  "cells": [
    {
      "cell_type": "code",
      "execution_count": null,
      "metadata": {
        "colab": {
          "base_uri": "https://localhost:8080/"
        },
        "id": "xa-bQE88YiEg",
        "outputId": "01f7ab4e-992a-4bfc-8e6f-d0a197c02153"
      },
      "outputs": [
        {
          "output_type": "stream",
          "name": "stdout",
          "text": [
            "Mounted at /content/drive\n"
          ]
        }
      ],
      "source": [
        "from google.colab import drive\n",
        "drive.mount('/content/drive')\n",
        "base_path = '/content/drive/MyDrive/Colab Notebooks/likelion_proj_finalproj'"
      ]
    },
    {
      "cell_type": "code",
      "source": [
        "! pip install koreanize_matplotlib"
      ],
      "metadata": {
        "colab": {
          "base_uri": "https://localhost:8080/"
        },
        "id": "q29q56Fvdk_N",
        "outputId": "fbb28dae-0702-47e0-c466-f2e887b7de0d"
      },
      "execution_count": null,
      "outputs": [
        {
          "output_type": "stream",
          "name": "stdout",
          "text": [
            "Looking in indexes: https://pypi.org/simple, https://us-python.pkg.dev/colab-wheels/public/simple/\n",
            "Collecting koreanize_matplotlib\n",
            "  Downloading koreanize_matplotlib-0.1.1-py3-none-any.whl (7.9 MB)\n",
            "\u001b[2K     \u001b[90m━━━━━━━━━━━━━━━━━━━━━━━━━━━━━━━━━━━━━━━━\u001b[0m \u001b[32m7.9/7.9 MB\u001b[0m \u001b[31m86.5 MB/s\u001b[0m eta \u001b[36m0:00:00\u001b[0m\n",
            "\u001b[?25hRequirement already satisfied: matplotlib in /usr/local/lib/python3.8/dist-packages (from koreanize_matplotlib) (3.2.2)\n",
            "Requirement already satisfied: cycler>=0.10 in /usr/local/lib/python3.8/dist-packages (from matplotlib->koreanize_matplotlib) (0.11.0)\n",
            "Requirement already satisfied: python-dateutil>=2.1 in /usr/local/lib/python3.8/dist-packages (from matplotlib->koreanize_matplotlib) (2.8.2)\n",
            "Requirement already satisfied: pyparsing!=2.0.4,!=2.1.2,!=2.1.6,>=2.0.1 in /usr/local/lib/python3.8/dist-packages (from matplotlib->koreanize_matplotlib) (3.0.9)\n",
            "Requirement already satisfied: numpy>=1.11 in /usr/local/lib/python3.8/dist-packages (from matplotlib->koreanize_matplotlib) (1.21.6)\n",
            "Requirement already satisfied: kiwisolver>=1.0.1 in /usr/local/lib/python3.8/dist-packages (from matplotlib->koreanize_matplotlib) (1.4.4)\n",
            "Requirement already satisfied: six>=1.5 in /usr/local/lib/python3.8/dist-packages (from python-dateutil>=2.1->matplotlib->koreanize_matplotlib) (1.15.0)\n",
            "Installing collected packages: koreanize_matplotlib\n",
            "Successfully installed koreanize_matplotlib-0.1.1\n"
          ]
        }
      ]
    },
    {
      "cell_type": "code",
      "source": [
        "import pandas as pd\n",
        "import numpy as np\n",
        "import seaborn as sns\n",
        "import matplotlib.pyplot as plt\n",
        "import koreanize_matplotlib"
      ],
      "metadata": {
        "id": "OWjG9eQZdScg"
      },
      "execution_count": null,
      "outputs": []
    },
    {
      "cell_type": "markdown",
      "source": [
        "## 1. 데이터 로드"
      ],
      "metadata": {
        "id": "qoQaWFRgdBhR"
      }
    },
    {
      "cell_type": "markdown",
      "source": [
        "네이버에서 '반려동물'이라는 키워드로 2020-2022 기사 데이터를 크롤링해왔습니다. "
      ],
      "metadata": {
        "id": "jm9O5b_DZI5a"
      }
    },
    {
      "cell_type": "code",
      "source": [
        "news1= pd.read_csv(f'{base_path}/2020.01.01_2020.12.31_1.csv')\n",
        "news1.head(10)"
      ],
      "metadata": {
        "colab": {
          "base_uri": "https://localhost:8080/",
          "height": 363
        },
        "id": "JHri1t5mc-uG",
        "outputId": "b5be0ef1-0c2a-4416-b5b2-e81b814ba696"
      },
      "execution_count": null,
      "outputs": [
        {
          "output_type": "execute_result",
          "data": {
            "text/plain": [
              "                                       0\n",
              "0             은평구, 반려동물 문화교실 '댕댕이 스쿨' 운영\n",
              "1      새해부터 반려동물 미용사·나무의사도 신중년 고용장려금 받는다\n",
              "2                        반려식물로 코로나 우울 해소\n",
              "3           “우리 아이와 반려동물, 함께 생활해도 괜찮을까?”\n",
              "4  [영상]반려동물 식품의 세계화 \"정부지원 받아 글로벌기업으로 우뚝\"\n",
              "5    배스 사들여 반려동물식품 제조…빈집 고쳐 장기거주 사회주택 제공\n",
              "6     반려동물도 코로나블루? 쿠쿠전자 넬로, 팻케어 제품 수요 증가\n",
              "7           2021년부터 동물보호법 상 맹견은 책임보험 의무화\n",
              "8               [웰컴 투 펫팸] 반려동물도 쇼크로 쓰러진다\n",
              "9         지솔펫, 반려동물을 위한 살균·소독·향균 탈취제 선보여"
            ],
            "text/html": [
              "\n",
              "  <div id=\"df-03a2d0c3-eb40-4f85-b573-f9fa54b55ab1\">\n",
              "    <div class=\"colab-df-container\">\n",
              "      <div>\n",
              "<style scoped>\n",
              "    .dataframe tbody tr th:only-of-type {\n",
              "        vertical-align: middle;\n",
              "    }\n",
              "\n",
              "    .dataframe tbody tr th {\n",
              "        vertical-align: top;\n",
              "    }\n",
              "\n",
              "    .dataframe thead th {\n",
              "        text-align: right;\n",
              "    }\n",
              "</style>\n",
              "<table border=\"1\" class=\"dataframe\">\n",
              "  <thead>\n",
              "    <tr style=\"text-align: right;\">\n",
              "      <th></th>\n",
              "      <th>0</th>\n",
              "    </tr>\n",
              "  </thead>\n",
              "  <tbody>\n",
              "    <tr>\n",
              "      <th>0</th>\n",
              "      <td>은평구, 반려동물 문화교실 '댕댕이 스쿨' 운영</td>\n",
              "    </tr>\n",
              "    <tr>\n",
              "      <th>1</th>\n",
              "      <td>새해부터 반려동물 미용사·나무의사도 신중년 고용장려금 받는다</td>\n",
              "    </tr>\n",
              "    <tr>\n",
              "      <th>2</th>\n",
              "      <td>반려식물로 코로나 우울 해소</td>\n",
              "    </tr>\n",
              "    <tr>\n",
              "      <th>3</th>\n",
              "      <td>“우리 아이와 반려동물, 함께 생활해도 괜찮을까?”</td>\n",
              "    </tr>\n",
              "    <tr>\n",
              "      <th>4</th>\n",
              "      <td>[영상]반려동물 식품의 세계화 \"정부지원 받아 글로벌기업으로 우뚝\"</td>\n",
              "    </tr>\n",
              "    <tr>\n",
              "      <th>5</th>\n",
              "      <td>배스 사들여 반려동물식품 제조…빈집 고쳐 장기거주 사회주택 제공</td>\n",
              "    </tr>\n",
              "    <tr>\n",
              "      <th>6</th>\n",
              "      <td>반려동물도 코로나블루? 쿠쿠전자 넬로, 팻케어 제품 수요 증가</td>\n",
              "    </tr>\n",
              "    <tr>\n",
              "      <th>7</th>\n",
              "      <td>2021년부터 동물보호법 상 맹견은 책임보험 의무화</td>\n",
              "    </tr>\n",
              "    <tr>\n",
              "      <th>8</th>\n",
              "      <td>[웰컴 투 펫팸] 반려동물도 쇼크로 쓰러진다</td>\n",
              "    </tr>\n",
              "    <tr>\n",
              "      <th>9</th>\n",
              "      <td>지솔펫, 반려동물을 위한 살균·소독·향균 탈취제 선보여</td>\n",
              "    </tr>\n",
              "  </tbody>\n",
              "</table>\n",
              "</div>\n",
              "      <button class=\"colab-df-convert\" onclick=\"convertToInteractive('df-03a2d0c3-eb40-4f85-b573-f9fa54b55ab1')\"\n",
              "              title=\"Convert this dataframe to an interactive table.\"\n",
              "              style=\"display:none;\">\n",
              "        \n",
              "  <svg xmlns=\"http://www.w3.org/2000/svg\" height=\"24px\"viewBox=\"0 0 24 24\"\n",
              "       width=\"24px\">\n",
              "    <path d=\"M0 0h24v24H0V0z\" fill=\"none\"/>\n",
              "    <path d=\"M18.56 5.44l.94 2.06.94-2.06 2.06-.94-2.06-.94-.94-2.06-.94 2.06-2.06.94zm-11 1L8.5 8.5l.94-2.06 2.06-.94-2.06-.94L8.5 2.5l-.94 2.06-2.06.94zm10 10l.94 2.06.94-2.06 2.06-.94-2.06-.94-.94-2.06-.94 2.06-2.06.94z\"/><path d=\"M17.41 7.96l-1.37-1.37c-.4-.4-.92-.59-1.43-.59-.52 0-1.04.2-1.43.59L10.3 9.45l-7.72 7.72c-.78.78-.78 2.05 0 2.83L4 21.41c.39.39.9.59 1.41.59.51 0 1.02-.2 1.41-.59l7.78-7.78 2.81-2.81c.8-.78.8-2.07 0-2.86zM5.41 20L4 18.59l7.72-7.72 1.47 1.35L5.41 20z\"/>\n",
              "  </svg>\n",
              "      </button>\n",
              "      \n",
              "  <style>\n",
              "    .colab-df-container {\n",
              "      display:flex;\n",
              "      flex-wrap:wrap;\n",
              "      gap: 12px;\n",
              "    }\n",
              "\n",
              "    .colab-df-convert {\n",
              "      background-color: #E8F0FE;\n",
              "      border: none;\n",
              "      border-radius: 50%;\n",
              "      cursor: pointer;\n",
              "      display: none;\n",
              "      fill: #1967D2;\n",
              "      height: 32px;\n",
              "      padding: 0 0 0 0;\n",
              "      width: 32px;\n",
              "    }\n",
              "\n",
              "    .colab-df-convert:hover {\n",
              "      background-color: #E2EBFA;\n",
              "      box-shadow: 0px 1px 2px rgba(60, 64, 67, 0.3), 0px 1px 3px 1px rgba(60, 64, 67, 0.15);\n",
              "      fill: #174EA6;\n",
              "    }\n",
              "\n",
              "    [theme=dark] .colab-df-convert {\n",
              "      background-color: #3B4455;\n",
              "      fill: #D2E3FC;\n",
              "    }\n",
              "\n",
              "    [theme=dark] .colab-df-convert:hover {\n",
              "      background-color: #434B5C;\n",
              "      box-shadow: 0px 1px 3px 1px rgba(0, 0, 0, 0.15);\n",
              "      filter: drop-shadow(0px 1px 2px rgba(0, 0, 0, 0.3));\n",
              "      fill: #FFFFFF;\n",
              "    }\n",
              "  </style>\n",
              "\n",
              "      <script>\n",
              "        const buttonEl =\n",
              "          document.querySelector('#df-03a2d0c3-eb40-4f85-b573-f9fa54b55ab1 button.colab-df-convert');\n",
              "        buttonEl.style.display =\n",
              "          google.colab.kernel.accessAllowed ? 'block' : 'none';\n",
              "\n",
              "        async function convertToInteractive(key) {\n",
              "          const element = document.querySelector('#df-03a2d0c3-eb40-4f85-b573-f9fa54b55ab1');\n",
              "          const dataTable =\n",
              "            await google.colab.kernel.invokeFunction('convertToInteractive',\n",
              "                                                     [key], {});\n",
              "          if (!dataTable) return;\n",
              "\n",
              "          const docLinkHtml = 'Like what you see? Visit the ' +\n",
              "            '<a target=\"_blank\" href=https://colab.research.google.com/notebooks/data_table.ipynb>data table notebook</a>'\n",
              "            + ' to learn more about interactive tables.';\n",
              "          element.innerHTML = '';\n",
              "          dataTable['output_type'] = 'display_data';\n",
              "          await google.colab.output.renderOutput(dataTable, element);\n",
              "          const docLink = document.createElement('div');\n",
              "          docLink.innerHTML = docLinkHtml;\n",
              "          element.appendChild(docLink);\n",
              "        }\n",
              "      </script>\n",
              "    </div>\n",
              "  </div>\n",
              "  "
            ]
          },
          "metadata": {},
          "execution_count": 8
        }
      ]
    },
    {
      "cell_type": "code",
      "source": [
        "news2 = pd.read_csv(f'{base_path}/2021.01.01_2021.12.31_1.csv')\n",
        "news2.head(10)"
      ],
      "metadata": {
        "colab": {
          "base_uri": "https://localhost:8080/",
          "height": 363
        },
        "id": "bry5dOODZgQX",
        "outputId": "195509b4-7400-41f5-a002-3895ed233bb4"
      },
      "execution_count": null,
      "outputs": [
        {
          "output_type": "execute_result",
          "data": {
            "text/plain": [
              "                                               0\n",
              "0               이재명 코로나 거점 전담병원 방문…‘반려동물’ 유튜브 출연\n",
              "1                    반려동물 함께 즐기는 스타벅스 더북한강R 점 오픈\n",
              "2              잔인한 방법으로 개 도살, 허가 없이 번식도…동물 학대 적발\n",
              "3                  반려동물도 코로나 감염…\"확진자 재택치료시 분리해야\"\n",
              "4                       올해 최다 이용 반려동물 앱 1위는 펫프렌즈\n",
              "5                     반려동물은 제2의 고객… 펫팸족 공략나선 LCC\n",
              "6        ‘면적 제한 폐지’ 농지원부 작성 의무화... 동물보건사 자격제도 시행\n",
              "7                울산 남구, 반려동물정책계·치매관리계 신설…조직개편 단행\n",
              "8        허은아 \"이재명, 반려견 '이행복'은 어디에..동물에 대한 애정 없어\"\n",
              "9  스파이더맨 보러 간 영화관 팝콘 속에서 나온 '햄스터' 반려동물로 입양한 소..."
            ],
            "text/html": [
              "\n",
              "  <div id=\"df-e2056d9b-ad98-4d86-93ea-e0a2a1477809\">\n",
              "    <div class=\"colab-df-container\">\n",
              "      <div>\n",
              "<style scoped>\n",
              "    .dataframe tbody tr th:only-of-type {\n",
              "        vertical-align: middle;\n",
              "    }\n",
              "\n",
              "    .dataframe tbody tr th {\n",
              "        vertical-align: top;\n",
              "    }\n",
              "\n",
              "    .dataframe thead th {\n",
              "        text-align: right;\n",
              "    }\n",
              "</style>\n",
              "<table border=\"1\" class=\"dataframe\">\n",
              "  <thead>\n",
              "    <tr style=\"text-align: right;\">\n",
              "      <th></th>\n",
              "      <th>0</th>\n",
              "    </tr>\n",
              "  </thead>\n",
              "  <tbody>\n",
              "    <tr>\n",
              "      <th>0</th>\n",
              "      <td>이재명 코로나 거점 전담병원 방문…‘반려동물’ 유튜브 출연</td>\n",
              "    </tr>\n",
              "    <tr>\n",
              "      <th>1</th>\n",
              "      <td>반려동물 함께 즐기는 스타벅스 더북한강R 점 오픈</td>\n",
              "    </tr>\n",
              "    <tr>\n",
              "      <th>2</th>\n",
              "      <td>잔인한 방법으로 개 도살, 허가 없이 번식도…동물 학대 적발</td>\n",
              "    </tr>\n",
              "    <tr>\n",
              "      <th>3</th>\n",
              "      <td>반려동물도 코로나 감염…\"확진자 재택치료시 분리해야\"</td>\n",
              "    </tr>\n",
              "    <tr>\n",
              "      <th>4</th>\n",
              "      <td>올해 최다 이용 반려동물 앱 1위는 펫프렌즈</td>\n",
              "    </tr>\n",
              "    <tr>\n",
              "      <th>5</th>\n",
              "      <td>반려동물은 제2의 고객… 펫팸족 공략나선 LCC</td>\n",
              "    </tr>\n",
              "    <tr>\n",
              "      <th>6</th>\n",
              "      <td>‘면적 제한 폐지’ 농지원부 작성 의무화... 동물보건사 자격제도 시행</td>\n",
              "    </tr>\n",
              "    <tr>\n",
              "      <th>7</th>\n",
              "      <td>울산 남구, 반려동물정책계·치매관리계 신설…조직개편 단행</td>\n",
              "    </tr>\n",
              "    <tr>\n",
              "      <th>8</th>\n",
              "      <td>허은아 \"이재명, 반려견 '이행복'은 어디에..동물에 대한 애정 없어\"</td>\n",
              "    </tr>\n",
              "    <tr>\n",
              "      <th>9</th>\n",
              "      <td>스파이더맨 보러 간 영화관 팝콘 속에서 나온 '햄스터' 반려동물로 입양한 소...</td>\n",
              "    </tr>\n",
              "  </tbody>\n",
              "</table>\n",
              "</div>\n",
              "      <button class=\"colab-df-convert\" onclick=\"convertToInteractive('df-e2056d9b-ad98-4d86-93ea-e0a2a1477809')\"\n",
              "              title=\"Convert this dataframe to an interactive table.\"\n",
              "              style=\"display:none;\">\n",
              "        \n",
              "  <svg xmlns=\"http://www.w3.org/2000/svg\" height=\"24px\"viewBox=\"0 0 24 24\"\n",
              "       width=\"24px\">\n",
              "    <path d=\"M0 0h24v24H0V0z\" fill=\"none\"/>\n",
              "    <path d=\"M18.56 5.44l.94 2.06.94-2.06 2.06-.94-2.06-.94-.94-2.06-.94 2.06-2.06.94zm-11 1L8.5 8.5l.94-2.06 2.06-.94-2.06-.94L8.5 2.5l-.94 2.06-2.06.94zm10 10l.94 2.06.94-2.06 2.06-.94-2.06-.94-.94-2.06-.94 2.06-2.06.94z\"/><path d=\"M17.41 7.96l-1.37-1.37c-.4-.4-.92-.59-1.43-.59-.52 0-1.04.2-1.43.59L10.3 9.45l-7.72 7.72c-.78.78-.78 2.05 0 2.83L4 21.41c.39.39.9.59 1.41.59.51 0 1.02-.2 1.41-.59l7.78-7.78 2.81-2.81c.8-.78.8-2.07 0-2.86zM5.41 20L4 18.59l7.72-7.72 1.47 1.35L5.41 20z\"/>\n",
              "  </svg>\n",
              "      </button>\n",
              "      \n",
              "  <style>\n",
              "    .colab-df-container {\n",
              "      display:flex;\n",
              "      flex-wrap:wrap;\n",
              "      gap: 12px;\n",
              "    }\n",
              "\n",
              "    .colab-df-convert {\n",
              "      background-color: #E8F0FE;\n",
              "      border: none;\n",
              "      border-radius: 50%;\n",
              "      cursor: pointer;\n",
              "      display: none;\n",
              "      fill: #1967D2;\n",
              "      height: 32px;\n",
              "      padding: 0 0 0 0;\n",
              "      width: 32px;\n",
              "    }\n",
              "\n",
              "    .colab-df-convert:hover {\n",
              "      background-color: #E2EBFA;\n",
              "      box-shadow: 0px 1px 2px rgba(60, 64, 67, 0.3), 0px 1px 3px 1px rgba(60, 64, 67, 0.15);\n",
              "      fill: #174EA6;\n",
              "    }\n",
              "\n",
              "    [theme=dark] .colab-df-convert {\n",
              "      background-color: #3B4455;\n",
              "      fill: #D2E3FC;\n",
              "    }\n",
              "\n",
              "    [theme=dark] .colab-df-convert:hover {\n",
              "      background-color: #434B5C;\n",
              "      box-shadow: 0px 1px 3px 1px rgba(0, 0, 0, 0.15);\n",
              "      filter: drop-shadow(0px 1px 2px rgba(0, 0, 0, 0.3));\n",
              "      fill: #FFFFFF;\n",
              "    }\n",
              "  </style>\n",
              "\n",
              "      <script>\n",
              "        const buttonEl =\n",
              "          document.querySelector('#df-e2056d9b-ad98-4d86-93ea-e0a2a1477809 button.colab-df-convert');\n",
              "        buttonEl.style.display =\n",
              "          google.colab.kernel.accessAllowed ? 'block' : 'none';\n",
              "\n",
              "        async function convertToInteractive(key) {\n",
              "          const element = document.querySelector('#df-e2056d9b-ad98-4d86-93ea-e0a2a1477809');\n",
              "          const dataTable =\n",
              "            await google.colab.kernel.invokeFunction('convertToInteractive',\n",
              "                                                     [key], {});\n",
              "          if (!dataTable) return;\n",
              "\n",
              "          const docLinkHtml = 'Like what you see? Visit the ' +\n",
              "            '<a target=\"_blank\" href=https://colab.research.google.com/notebooks/data_table.ipynb>data table notebook</a>'\n",
              "            + ' to learn more about interactive tables.';\n",
              "          element.innerHTML = '';\n",
              "          dataTable['output_type'] = 'display_data';\n",
              "          await google.colab.output.renderOutput(dataTable, element);\n",
              "          const docLink = document.createElement('div');\n",
              "          docLink.innerHTML = docLinkHtml;\n",
              "          element.appendChild(docLink);\n",
              "        }\n",
              "      </script>\n",
              "    </div>\n",
              "  </div>\n",
              "  "
            ]
          },
          "metadata": {},
          "execution_count": 9
        }
      ]
    },
    {
      "cell_type": "code",
      "source": [
        "news3 = pd.read_csv(f'{base_path}/2022.01.01_2022.12.25_1.csv')\n",
        "news3.head(10)"
      ],
      "metadata": {
        "colab": {
          "base_uri": "https://localhost:8080/",
          "height": 363
        },
        "id": "S0YrQcyOdQqF",
        "outputId": "54abf956-9223-442a-b2d5-6466b2be1382"
      },
      "execution_count": null,
      "outputs": [
        {
          "output_type": "execute_result",
          "data": {
            "text/plain": [
              "                                                   0\n",
              "0                 尹대통령, 은퇴 안내견 입양…관저에 11번째 동물 식구(종합)\n",
              "1               윤 대통령 부부, 은퇴 안내견 '새롬이' 입양… 11번째 반려동물\n",
              "2                 [영상]부산 1호 반려동물 테마파크...주민들이 반대하는 이유\n",
              "3  [정치톡톡] 정치권 성탄 메시지 / '민주당의 길' 출범 / 대통령 11번째 반려동...\n",
              "4               '동물복지 조례·보호센터 직영 운영'…사람과 동물이 행복한 고양시\n",
              "5                          'TV동물농장' 뒷다리 마비 웰시코기 '장수'\n",
              "6                     경기도반려동물테마파크의 배신?… 지원시설 빼고 추모관뿐\n",
              "7                     볼보자동차, 서울시에 반려동물 물품 5천만원 상당 기부\n",
              "8                  서울시, 반려동물 '사료검정기관' 지정…전국 지자체 중 최초\n",
              "9               삶이 위태로운 야생동물의 똥이 우리에게 하는 말 [반려인의 오후]"
            ],
            "text/html": [
              "\n",
              "  <div id=\"df-7e1b1f8b-bbc5-4b8b-bc7d-e087645f053c\">\n",
              "    <div class=\"colab-df-container\">\n",
              "      <div>\n",
              "<style scoped>\n",
              "    .dataframe tbody tr th:only-of-type {\n",
              "        vertical-align: middle;\n",
              "    }\n",
              "\n",
              "    .dataframe tbody tr th {\n",
              "        vertical-align: top;\n",
              "    }\n",
              "\n",
              "    .dataframe thead th {\n",
              "        text-align: right;\n",
              "    }\n",
              "</style>\n",
              "<table border=\"1\" class=\"dataframe\">\n",
              "  <thead>\n",
              "    <tr style=\"text-align: right;\">\n",
              "      <th></th>\n",
              "      <th>0</th>\n",
              "    </tr>\n",
              "  </thead>\n",
              "  <tbody>\n",
              "    <tr>\n",
              "      <th>0</th>\n",
              "      <td>尹대통령, 은퇴 안내견 입양…관저에 11번째 동물 식구(종합)</td>\n",
              "    </tr>\n",
              "    <tr>\n",
              "      <th>1</th>\n",
              "      <td>윤 대통령 부부, 은퇴 안내견 '새롬이' 입양… 11번째 반려동물</td>\n",
              "    </tr>\n",
              "    <tr>\n",
              "      <th>2</th>\n",
              "      <td>[영상]부산 1호 반려동물 테마파크...주민들이 반대하는 이유</td>\n",
              "    </tr>\n",
              "    <tr>\n",
              "      <th>3</th>\n",
              "      <td>[정치톡톡] 정치권 성탄 메시지 / '민주당의 길' 출범 / 대통령 11번째 반려동...</td>\n",
              "    </tr>\n",
              "    <tr>\n",
              "      <th>4</th>\n",
              "      <td>'동물복지 조례·보호센터 직영 운영'…사람과 동물이 행복한 고양시</td>\n",
              "    </tr>\n",
              "    <tr>\n",
              "      <th>5</th>\n",
              "      <td>'TV동물농장' 뒷다리 마비 웰시코기 '장수'</td>\n",
              "    </tr>\n",
              "    <tr>\n",
              "      <th>6</th>\n",
              "      <td>경기도반려동물테마파크의 배신?… 지원시설 빼고 추모관뿐</td>\n",
              "    </tr>\n",
              "    <tr>\n",
              "      <th>7</th>\n",
              "      <td>볼보자동차, 서울시에 반려동물 물품 5천만원 상당 기부</td>\n",
              "    </tr>\n",
              "    <tr>\n",
              "      <th>8</th>\n",
              "      <td>서울시, 반려동물 '사료검정기관' 지정…전국 지자체 중 최초</td>\n",
              "    </tr>\n",
              "    <tr>\n",
              "      <th>9</th>\n",
              "      <td>삶이 위태로운 야생동물의 똥이 우리에게 하는 말 [반려인의 오후]</td>\n",
              "    </tr>\n",
              "  </tbody>\n",
              "</table>\n",
              "</div>\n",
              "      <button class=\"colab-df-convert\" onclick=\"convertToInteractive('df-7e1b1f8b-bbc5-4b8b-bc7d-e087645f053c')\"\n",
              "              title=\"Convert this dataframe to an interactive table.\"\n",
              "              style=\"display:none;\">\n",
              "        \n",
              "  <svg xmlns=\"http://www.w3.org/2000/svg\" height=\"24px\"viewBox=\"0 0 24 24\"\n",
              "       width=\"24px\">\n",
              "    <path d=\"M0 0h24v24H0V0z\" fill=\"none\"/>\n",
              "    <path d=\"M18.56 5.44l.94 2.06.94-2.06 2.06-.94-2.06-.94-.94-2.06-.94 2.06-2.06.94zm-11 1L8.5 8.5l.94-2.06 2.06-.94-2.06-.94L8.5 2.5l-.94 2.06-2.06.94zm10 10l.94 2.06.94-2.06 2.06-.94-2.06-.94-.94-2.06-.94 2.06-2.06.94z\"/><path d=\"M17.41 7.96l-1.37-1.37c-.4-.4-.92-.59-1.43-.59-.52 0-1.04.2-1.43.59L10.3 9.45l-7.72 7.72c-.78.78-.78 2.05 0 2.83L4 21.41c.39.39.9.59 1.41.59.51 0 1.02-.2 1.41-.59l7.78-7.78 2.81-2.81c.8-.78.8-2.07 0-2.86zM5.41 20L4 18.59l7.72-7.72 1.47 1.35L5.41 20z\"/>\n",
              "  </svg>\n",
              "      </button>\n",
              "      \n",
              "  <style>\n",
              "    .colab-df-container {\n",
              "      display:flex;\n",
              "      flex-wrap:wrap;\n",
              "      gap: 12px;\n",
              "    }\n",
              "\n",
              "    .colab-df-convert {\n",
              "      background-color: #E8F0FE;\n",
              "      border: none;\n",
              "      border-radius: 50%;\n",
              "      cursor: pointer;\n",
              "      display: none;\n",
              "      fill: #1967D2;\n",
              "      height: 32px;\n",
              "      padding: 0 0 0 0;\n",
              "      width: 32px;\n",
              "    }\n",
              "\n",
              "    .colab-df-convert:hover {\n",
              "      background-color: #E2EBFA;\n",
              "      box-shadow: 0px 1px 2px rgba(60, 64, 67, 0.3), 0px 1px 3px 1px rgba(60, 64, 67, 0.15);\n",
              "      fill: #174EA6;\n",
              "    }\n",
              "\n",
              "    [theme=dark] .colab-df-convert {\n",
              "      background-color: #3B4455;\n",
              "      fill: #D2E3FC;\n",
              "    }\n",
              "\n",
              "    [theme=dark] .colab-df-convert:hover {\n",
              "      background-color: #434B5C;\n",
              "      box-shadow: 0px 1px 3px 1px rgba(0, 0, 0, 0.15);\n",
              "      filter: drop-shadow(0px 1px 2px rgba(0, 0, 0, 0.3));\n",
              "      fill: #FFFFFF;\n",
              "    }\n",
              "  </style>\n",
              "\n",
              "      <script>\n",
              "        const buttonEl =\n",
              "          document.querySelector('#df-7e1b1f8b-bbc5-4b8b-bc7d-e087645f053c button.colab-df-convert');\n",
              "        buttonEl.style.display =\n",
              "          google.colab.kernel.accessAllowed ? 'block' : 'none';\n",
              "\n",
              "        async function convertToInteractive(key) {\n",
              "          const element = document.querySelector('#df-7e1b1f8b-bbc5-4b8b-bc7d-e087645f053c');\n",
              "          const dataTable =\n",
              "            await google.colab.kernel.invokeFunction('convertToInteractive',\n",
              "                                                     [key], {});\n",
              "          if (!dataTable) return;\n",
              "\n",
              "          const docLinkHtml = 'Like what you see? Visit the ' +\n",
              "            '<a target=\"_blank\" href=https://colab.research.google.com/notebooks/data_table.ipynb>data table notebook</a>'\n",
              "            + ' to learn more about interactive tables.';\n",
              "          element.innerHTML = '';\n",
              "          dataTable['output_type'] = 'display_data';\n",
              "          await google.colab.output.renderOutput(dataTable, element);\n",
              "          const docLink = document.createElement('div');\n",
              "          docLink.innerHTML = docLinkHtml;\n",
              "          element.appendChild(docLink);\n",
              "        }\n",
              "      </script>\n",
              "    </div>\n",
              "  </div>\n",
              "  "
            ]
          },
          "metadata": {},
          "execution_count": 10
        }
      ]
    },
    {
      "cell_type": "code",
      "source": [
        "news1.shape, news2.shape, news3.shape"
      ],
      "metadata": {
        "colab": {
          "base_uri": "https://localhost:8080/"
        },
        "id": "UyuCoLjseXqD",
        "outputId": "a6ad74b2-f90c-4e33-9c6d-b5394b1e2f68"
      },
      "execution_count": null,
      "outputs": [
        {
          "output_type": "execute_result",
          "data": {
            "text/plain": [
              "((4000, 1), (4000, 1), (4000, 1))"
            ]
          },
          "metadata": {},
          "execution_count": 11
        }
      ]
    },
    {
      "cell_type": "code",
      "source": [
        "# 중복값 제거\n",
        "news_2020 = news1.drop_duplicates()[\"0\"]\n",
        "news_2021 = news2.drop_duplicates()[\"0\"]\n",
        "news_2022 = news3.drop_duplicates()[\"0\"]"
      ],
      "metadata": {
        "id": "8ofjqpk2eOJO"
      },
      "execution_count": null,
      "outputs": []
    },
    {
      "cell_type": "code",
      "source": [
        "news_2020.shape, news_2021.shape, news_2022.shape"
      ],
      "metadata": {
        "colab": {
          "base_uri": "https://localhost:8080/"
        },
        "id": "uZ7iD38ceUZV",
        "outputId": "a27a3d74-d3e1-428c-b1d6-0b7a8ffe04d4"
      },
      "execution_count": null,
      "outputs": [
        {
          "output_type": "execute_result",
          "data": {
            "text/plain": [
              "((2850,), (2816,), (2852,))"
            ]
          },
          "metadata": {},
          "execution_count": 13
        }
      ]
    },
    {
      "cell_type": "code",
      "source": [
        "news_2020.head(10)"
      ],
      "metadata": {
        "colab": {
          "base_uri": "https://localhost:8080/"
        },
        "id": "Z9Pf6fqDemkV",
        "outputId": "d15e0121-315c-425b-95ba-d696b1954db3"
      },
      "execution_count": null,
      "outputs": [
        {
          "output_type": "execute_result",
          "data": {
            "text/plain": [
              "0               은평구, 반려동물 문화교실 '댕댕이 스쿨' 운영\n",
              "1        새해부터 반려동물 미용사·나무의사도 신중년 고용장려금 받는다\n",
              "2                          반려식물로 코로나 우울 해소\n",
              "3             “우리 아이와 반려동물, 함께 생활해도 괜찮을까?”\n",
              "4    [영상]반려동물 식품의 세계화 \"정부지원 받아 글로벌기업으로 우뚝\"\n",
              "5      배스 사들여 반려동물식품 제조…빈집 고쳐 장기거주 사회주택 제공\n",
              "6       반려동물도 코로나블루? 쿠쿠전자 넬로, 팻케어 제품 수요 증가\n",
              "7             2021년부터 동물보호법 상 맹견은 책임보험 의무화\n",
              "8                 [웰컴 투 펫팸] 반려동물도 쇼크로 쓰러진다\n",
              "9           지솔펫, 반려동물을 위한 살균·소독·향균 탈취제 선보여\n",
              "Name: 0, dtype: object"
            ]
          },
          "metadata": {},
          "execution_count": 14
        }
      ]
    },
    {
      "cell_type": "code",
      "source": [
        "#특허 데이터 로드\n",
        "\n",
        "kipris = pd.read_csv(f\"{base_path}/kipris.csv\")\n",
        "kipris = kipris[[\"발명의명칭\", \"출원일자\"]]\n",
        "kipris.head(10)"
      ],
      "metadata": {
        "colab": {
          "base_uri": "https://localhost:8080/",
          "height": 363
        },
        "id": "W9tcJ_L2S4kF",
        "outputId": "5675bf4d-b07d-4991-9da0-13dd117d027c"
      },
      "execution_count": null,
      "outputs": [
        {
          "output_type": "execute_result",
          "data": {
            "text/plain": [
              "                                               발명의명칭        출원일자\n",
              "0  반려동물용 항산화 보조제 및 그 제조 방법(antioxidant supplement...  2021.11.01\n",
              "1  스마트폰을 이용한 반려동물 미용샵 예약관리 시스템 및 방법(RESERVATION S...  2019.08.18\n",
              "2  반려동물의 3D 복원 및 감정 분석을 통한 컨텐츠 제공 서버, 사용자 단말 및 그 ...  2020.07.02\n",
              "3  딥러닝을 이용한 반려동물 질환 추론 모듈 및 전자 장치(A method and el...  2021.04.06\n",
              "4  스마트 반려동물 배변패드 처리장치(Smart companion animal defe...  2022.05.17\n",
              "5  반려동물 위생 및 건강관리 기기장치(Sanitary Management and He...  2019.03.11\n",
              "6  반려동물의 심리 및 성격유형검사 제공시스템(Companion animal's psy...  2021.04.15\n",
              "7  반려동물 자동 배변 밀폐 처리장치(Pet automatic excretion sea...  2015.06.03\n",
              "8  반려동물 전문 인력 매칭 및 종합 지원 시스템 및 방법(SYSTEM AND METH...  2019.03.13\n",
              "9  반려동물 질병 추론 시스템 및 그 방법(System for inferencing d...  2021.06.11"
            ],
            "text/html": [
              "\n",
              "  <div id=\"df-4eec81b4-f1e9-4269-bccb-37a33063a2f7\">\n",
              "    <div class=\"colab-df-container\">\n",
              "      <div>\n",
              "<style scoped>\n",
              "    .dataframe tbody tr th:only-of-type {\n",
              "        vertical-align: middle;\n",
              "    }\n",
              "\n",
              "    .dataframe tbody tr th {\n",
              "        vertical-align: top;\n",
              "    }\n",
              "\n",
              "    .dataframe thead th {\n",
              "        text-align: right;\n",
              "    }\n",
              "</style>\n",
              "<table border=\"1\" class=\"dataframe\">\n",
              "  <thead>\n",
              "    <tr style=\"text-align: right;\">\n",
              "      <th></th>\n",
              "      <th>발명의명칭</th>\n",
              "      <th>출원일자</th>\n",
              "    </tr>\n",
              "  </thead>\n",
              "  <tbody>\n",
              "    <tr>\n",
              "      <th>0</th>\n",
              "      <td>반려동물용 항산화 보조제 및 그 제조 방법(antioxidant supplement...</td>\n",
              "      <td>2021.11.01</td>\n",
              "    </tr>\n",
              "    <tr>\n",
              "      <th>1</th>\n",
              "      <td>스마트폰을 이용한 반려동물 미용샵 예약관리 시스템 및 방법(RESERVATION S...</td>\n",
              "      <td>2019.08.18</td>\n",
              "    </tr>\n",
              "    <tr>\n",
              "      <th>2</th>\n",
              "      <td>반려동물의 3D 복원 및 감정 분석을 통한 컨텐츠 제공 서버, 사용자 단말 및 그 ...</td>\n",
              "      <td>2020.07.02</td>\n",
              "    </tr>\n",
              "    <tr>\n",
              "      <th>3</th>\n",
              "      <td>딥러닝을 이용한 반려동물 질환 추론 모듈 및 전자 장치(A method and el...</td>\n",
              "      <td>2021.04.06</td>\n",
              "    </tr>\n",
              "    <tr>\n",
              "      <th>4</th>\n",
              "      <td>스마트 반려동물 배변패드 처리장치(Smart companion animal defe...</td>\n",
              "      <td>2022.05.17</td>\n",
              "    </tr>\n",
              "    <tr>\n",
              "      <th>5</th>\n",
              "      <td>반려동물 위생 및 건강관리 기기장치(Sanitary Management and He...</td>\n",
              "      <td>2019.03.11</td>\n",
              "    </tr>\n",
              "    <tr>\n",
              "      <th>6</th>\n",
              "      <td>반려동물의 심리 및 성격유형검사 제공시스템(Companion animal's psy...</td>\n",
              "      <td>2021.04.15</td>\n",
              "    </tr>\n",
              "    <tr>\n",
              "      <th>7</th>\n",
              "      <td>반려동물 자동 배변 밀폐 처리장치(Pet automatic excretion sea...</td>\n",
              "      <td>2015.06.03</td>\n",
              "    </tr>\n",
              "    <tr>\n",
              "      <th>8</th>\n",
              "      <td>반려동물 전문 인력 매칭 및 종합 지원 시스템 및 방법(SYSTEM AND METH...</td>\n",
              "      <td>2019.03.13</td>\n",
              "    </tr>\n",
              "    <tr>\n",
              "      <th>9</th>\n",
              "      <td>반려동물 질병 추론 시스템 및 그 방법(System for inferencing d...</td>\n",
              "      <td>2021.06.11</td>\n",
              "    </tr>\n",
              "  </tbody>\n",
              "</table>\n",
              "</div>\n",
              "      <button class=\"colab-df-convert\" onclick=\"convertToInteractive('df-4eec81b4-f1e9-4269-bccb-37a33063a2f7')\"\n",
              "              title=\"Convert this dataframe to an interactive table.\"\n",
              "              style=\"display:none;\">\n",
              "        \n",
              "  <svg xmlns=\"http://www.w3.org/2000/svg\" height=\"24px\"viewBox=\"0 0 24 24\"\n",
              "       width=\"24px\">\n",
              "    <path d=\"M0 0h24v24H0V0z\" fill=\"none\"/>\n",
              "    <path d=\"M18.56 5.44l.94 2.06.94-2.06 2.06-.94-2.06-.94-.94-2.06-.94 2.06-2.06.94zm-11 1L8.5 8.5l.94-2.06 2.06-.94-2.06-.94L8.5 2.5l-.94 2.06-2.06.94zm10 10l.94 2.06.94-2.06 2.06-.94-2.06-.94-.94-2.06-.94 2.06-2.06.94z\"/><path d=\"M17.41 7.96l-1.37-1.37c-.4-.4-.92-.59-1.43-.59-.52 0-1.04.2-1.43.59L10.3 9.45l-7.72 7.72c-.78.78-.78 2.05 0 2.83L4 21.41c.39.39.9.59 1.41.59.51 0 1.02-.2 1.41-.59l7.78-7.78 2.81-2.81c.8-.78.8-2.07 0-2.86zM5.41 20L4 18.59l7.72-7.72 1.47 1.35L5.41 20z\"/>\n",
              "  </svg>\n",
              "      </button>\n",
              "      \n",
              "  <style>\n",
              "    .colab-df-container {\n",
              "      display:flex;\n",
              "      flex-wrap:wrap;\n",
              "      gap: 12px;\n",
              "    }\n",
              "\n",
              "    .colab-df-convert {\n",
              "      background-color: #E8F0FE;\n",
              "      border: none;\n",
              "      border-radius: 50%;\n",
              "      cursor: pointer;\n",
              "      display: none;\n",
              "      fill: #1967D2;\n",
              "      height: 32px;\n",
              "      padding: 0 0 0 0;\n",
              "      width: 32px;\n",
              "    }\n",
              "\n",
              "    .colab-df-convert:hover {\n",
              "      background-color: #E2EBFA;\n",
              "      box-shadow: 0px 1px 2px rgba(60, 64, 67, 0.3), 0px 1px 3px 1px rgba(60, 64, 67, 0.15);\n",
              "      fill: #174EA6;\n",
              "    }\n",
              "\n",
              "    [theme=dark] .colab-df-convert {\n",
              "      background-color: #3B4455;\n",
              "      fill: #D2E3FC;\n",
              "    }\n",
              "\n",
              "    [theme=dark] .colab-df-convert:hover {\n",
              "      background-color: #434B5C;\n",
              "      box-shadow: 0px 1px 3px 1px rgba(0, 0, 0, 0.15);\n",
              "      filter: drop-shadow(0px 1px 2px rgba(0, 0, 0, 0.3));\n",
              "      fill: #FFFFFF;\n",
              "    }\n",
              "  </style>\n",
              "\n",
              "      <script>\n",
              "        const buttonEl =\n",
              "          document.querySelector('#df-4eec81b4-f1e9-4269-bccb-37a33063a2f7 button.colab-df-convert');\n",
              "        buttonEl.style.display =\n",
              "          google.colab.kernel.accessAllowed ? 'block' : 'none';\n",
              "\n",
              "        async function convertToInteractive(key) {\n",
              "          const element = document.querySelector('#df-4eec81b4-f1e9-4269-bccb-37a33063a2f7');\n",
              "          const dataTable =\n",
              "            await google.colab.kernel.invokeFunction('convertToInteractive',\n",
              "                                                     [key], {});\n",
              "          if (!dataTable) return;\n",
              "\n",
              "          const docLinkHtml = 'Like what you see? Visit the ' +\n",
              "            '<a target=\"_blank\" href=https://colab.research.google.com/notebooks/data_table.ipynb>data table notebook</a>'\n",
              "            + ' to learn more about interactive tables.';\n",
              "          element.innerHTML = '';\n",
              "          dataTable['output_type'] = 'display_data';\n",
              "          await google.colab.output.renderOutput(dataTable, element);\n",
              "          const docLink = document.createElement('div');\n",
              "          docLink.innerHTML = docLinkHtml;\n",
              "          element.appendChild(docLink);\n",
              "        }\n",
              "      </script>\n",
              "    </div>\n",
              "  </div>\n",
              "  "
            ]
          },
          "metadata": {},
          "execution_count": 15
        }
      ]
    },
    {
      "cell_type": "code",
      "source": [
        "# 시계열 넣기\n",
        "\n",
        "kipris[\"출원일자\"] = pd.to_datetime(kipris[\"출원일자\"])\n",
        "kipris[\"출원일자\"] = kipris[\"출원일자\"].dt.year\n",
        "kipris.columns = ['제목', '날짜']"
      ],
      "metadata": {
        "id": "dUaViz7hTJGq"
      },
      "execution_count": null,
      "outputs": []
    },
    {
      "cell_type": "markdown",
      "source": [
        "## 2. 전처리"
      ],
      "metadata": {
        "id": "t5dr9kUcTRhj"
      }
    },
    {
      "cell_type": "code",
      "source": [
        "# 특허 데이터 전처리\n",
        "# 관련 출처: https://colab.research.google.com/drive/1biKqnXWMMuyEwr-oW6VZV5rSBEEghk3u?usp=sharing\n",
        "\n",
        "import re\n",
        "\n",
        "def preprocessing(text):\n",
        "    text = re.sub(r\"[^가-힣0-9\\s]\", \" \", text) #한글이랑 숫자, 공백만 남기기\n",
        "    text = re.sub(r\"\\s+\", \" \", text) #중복 공백 없애기\n",
        "    text = text.strip() #앞뒤 공백 없애기\n",
        "    return text\n",
        "\n",
        "from tqdm import tqdm\n",
        "tqdm.pandas()\n",
        "\n",
        "kipris[\"제목\"] = kipris[\"제목\"].progress_map(preprocessing)"
      ],
      "metadata": {
        "colab": {
          "base_uri": "https://localhost:8080/"
        },
        "id": "T1_lTYneTQ0C",
        "outputId": "ef5e3e86-d5d9-45d9-9d02-fb24d87feab2"
      },
      "execution_count": null,
      "outputs": [
        {
          "output_type": "stream",
          "name": "stderr",
          "text": [
            "100%|██████████| 7481/7481 [00:00<00:00, 87758.92it/s]\n"
          ]
        }
      ]
    },
    {
      "cell_type": "code",
      "source": [
        "kipris.duplicated(subset=[\"제목\"]).sum()"
      ],
      "metadata": {
        "colab": {
          "base_uri": "https://localhost:8080/"
        },
        "id": "BjEVaDq5TMpF",
        "outputId": "581b4bed-42a2-42fc-eb37-ac7024ee9a01"
      },
      "execution_count": null,
      "outputs": [
        {
          "output_type": "execute_result",
          "data": {
            "text/plain": [
              "997"
            ]
          },
          "metadata": {},
          "execution_count": 18
        }
      ]
    },
    {
      "cell_type": "code",
      "source": [
        "kipris = kipris.drop_duplicates(['제목'])"
      ],
      "metadata": {
        "id": "lWerXtpDTbb_"
      },
      "execution_count": null,
      "outputs": []
    },
    {
      "cell_type": "code",
      "source": [
        "kipris[\"분류\"] = \"특허\""
      ],
      "metadata": {
        "colab": {
          "base_uri": "https://localhost:8080/"
        },
        "id": "IgOzuyGeT08C",
        "outputId": "84304d87-cd95-48f8-df75-13fc80c16ef0"
      },
      "execution_count": null,
      "outputs": [
        {
          "output_type": "stream",
          "name": "stderr",
          "text": [
            "<ipython-input-20-f861e6e84543>:1: SettingWithCopyWarning: \n",
            "A value is trying to be set on a copy of a slice from a DataFrame.\n",
            "Try using .loc[row_indexer,col_indexer] = value instead\n",
            "\n",
            "See the caveats in the documentation: https://pandas.pydata.org/pandas-docs/stable/user_guide/indexing.html#returning-a-view-versus-a-copy\n",
            "  kipris[\"분류\"] = \"특허\"\n"
          ]
        }
      ]
    },
    {
      "cell_type": "code",
      "source": [
        "# 뉴스 데이터 전처리\n",
        "\n",
        "news1[\"날짜\"] = 2020\n",
        "news2[\"날짜\"] = 2021\n",
        "news3[\"날짜\"] = 2022\n",
        "\n",
        "news = pd.concat([news1, news2, news3])\n",
        "\n",
        "news.rename(columns = {'0' : '제목'}, inplace = True)\n",
        "\n",
        "news[\"제목\"] = news[\"제목\"].progress_map(preprocessing)\n",
        "\n",
        "news.duplicated(subset=[\"제목\"]).sum()"
      ],
      "metadata": {
        "colab": {
          "base_uri": "https://localhost:8080/"
        },
        "id": "aPc8VbUnTi6G",
        "outputId": "d6d3b136-e3a4-49a4-f2ce-55ebfd665dc4"
      },
      "execution_count": null,
      "outputs": [
        {
          "output_type": "stream",
          "name": "stderr",
          "text": [
            "100%|██████████| 12000/12000 [00:00<00:00, 157600.12it/s]\n"
          ]
        },
        {
          "output_type": "execute_result",
          "data": {
            "text/plain": [
              "3681"
            ]
          },
          "metadata": {},
          "execution_count": 21
        }
      ]
    },
    {
      "cell_type": "code",
      "source": [
        "news = news.drop_duplicates(['제목'])"
      ],
      "metadata": {
        "id": "GbcPqObjTwsQ"
      },
      "execution_count": null,
      "outputs": []
    },
    {
      "cell_type": "code",
      "source": [
        "news[\"분류\"] = \"뉴스\""
      ],
      "metadata": {
        "id": "9oX9sY1eTyXD"
      },
      "execution_count": null,
      "outputs": []
    },
    {
      "cell_type": "code",
      "source": [
        "# 전처리 완료한 데이터셋 저장\n",
        "df = pd.concat([news, kipris])\n",
        "df = df.reset_index(drop=True, inplace=False)\n",
        "df.sample(20)"
      ],
      "metadata": {
        "colab": {
          "base_uri": "https://localhost:8080/",
          "height": 676
        },
        "id": "e2kDyw-ST20f",
        "outputId": "9952a253-5544-4b25-c18f-bae9ad496554"
      },
      "execution_count": null,
      "outputs": [
        {
          "output_type": "execute_result",
          "data": {
            "text/plain": [
              "                                                      제목    날짜  분류\n",
              "13913  멜라노코르틴 4 수용체 조절제로서의 아실화 스피로피페리딘 유도체 및 이를 포함하는 ...  2006  특허\n",
              "8658                                      반려동물 건강 관리 시스템  2020  특허\n",
              "5291             반려동물 가구 600만 시대 종근당바이오 카카오 정기 구독 서비스 오픈  2021  뉴스\n",
              "10694                   기호성이 개선된 반려견의 관절염 예방 및 치료용 연질 캡슐  2018  특허\n",
              "2055                                아워박스 반려용품 물류시장 본격 진출  2020  뉴스\n",
              "8908                                 반려동물 하우징을 구비한 전기자전거  2018  특허\n",
              "5747                        핏펫 반려동물 아플 때 꼭 필요한 케어 서비스 론칭  2022  뉴스\n",
              "13170                             놀이 기구로도 사용할 수 있는 고양이 집  2020  특허\n",
              "13148                                폐지를 이용한 재생 제품의 제조방법  2020  특허\n",
              "14274                        아드레날린 수용체 조절 화합물 및 이의 사용 방법  2017  특허\n",
              "7739                   반려동물 천만 시대 한문철이 말하는 위험천만 동물사고 한블리  2022  뉴스\n",
              "8418                                    반려동물 사료첨가제 제조 방법  2020  특허\n",
              "8187                           반려동물 이동 화장 장례서비스 문경서 첫 운영  2022  뉴스\n",
              "1001             반려동물 아이템 어디까지 써봤니 25 양지사 반려동물 전용 다이어리 반  2020  뉴스\n",
              "8211                팀장님 강아지 장례 치러야 해 휴가 좀 반려동물 복지 끝판왕 회사  2022  뉴스\n",
              "5537                   이주의 법안 주인 찾지 못하면 안락사 유기동물 구제할 법안은  2022  뉴스\n",
              "4424                         제천시 반려동물 동반 외출 안전조치 이행여부 점검  2021  뉴스\n",
              "12370                                            애견용 견인줄  2014  특허\n",
              "7203                             반려동물 만성질환에 영양학적 관리 중요하다  2022  뉴스\n",
              "5034                              기고 알고 있나요 반려동물 응급처치 방법  2021  뉴스"
            ],
            "text/html": [
              "\n",
              "  <div id=\"df-48e7b860-e900-48a1-8c1f-eaf3a31f581a\">\n",
              "    <div class=\"colab-df-container\">\n",
              "      <div>\n",
              "<style scoped>\n",
              "    .dataframe tbody tr th:only-of-type {\n",
              "        vertical-align: middle;\n",
              "    }\n",
              "\n",
              "    .dataframe tbody tr th {\n",
              "        vertical-align: top;\n",
              "    }\n",
              "\n",
              "    .dataframe thead th {\n",
              "        text-align: right;\n",
              "    }\n",
              "</style>\n",
              "<table border=\"1\" class=\"dataframe\">\n",
              "  <thead>\n",
              "    <tr style=\"text-align: right;\">\n",
              "      <th></th>\n",
              "      <th>제목</th>\n",
              "      <th>날짜</th>\n",
              "      <th>분류</th>\n",
              "    </tr>\n",
              "  </thead>\n",
              "  <tbody>\n",
              "    <tr>\n",
              "      <th>13913</th>\n",
              "      <td>멜라노코르틴 4 수용체 조절제로서의 아실화 스피로피페리딘 유도체 및 이를 포함하는 ...</td>\n",
              "      <td>2006</td>\n",
              "      <td>특허</td>\n",
              "    </tr>\n",
              "    <tr>\n",
              "      <th>8658</th>\n",
              "      <td>반려동물 건강 관리 시스템</td>\n",
              "      <td>2020</td>\n",
              "      <td>특허</td>\n",
              "    </tr>\n",
              "    <tr>\n",
              "      <th>5291</th>\n",
              "      <td>반려동물 가구 600만 시대 종근당바이오 카카오 정기 구독 서비스 오픈</td>\n",
              "      <td>2021</td>\n",
              "      <td>뉴스</td>\n",
              "    </tr>\n",
              "    <tr>\n",
              "      <th>10694</th>\n",
              "      <td>기호성이 개선된 반려견의 관절염 예방 및 치료용 연질 캡슐</td>\n",
              "      <td>2018</td>\n",
              "      <td>특허</td>\n",
              "    </tr>\n",
              "    <tr>\n",
              "      <th>2055</th>\n",
              "      <td>아워박스 반려용품 물류시장 본격 진출</td>\n",
              "      <td>2020</td>\n",
              "      <td>뉴스</td>\n",
              "    </tr>\n",
              "    <tr>\n",
              "      <th>8908</th>\n",
              "      <td>반려동물 하우징을 구비한 전기자전거</td>\n",
              "      <td>2018</td>\n",
              "      <td>특허</td>\n",
              "    </tr>\n",
              "    <tr>\n",
              "      <th>5747</th>\n",
              "      <td>핏펫 반려동물 아플 때 꼭 필요한 케어 서비스 론칭</td>\n",
              "      <td>2022</td>\n",
              "      <td>뉴스</td>\n",
              "    </tr>\n",
              "    <tr>\n",
              "      <th>13170</th>\n",
              "      <td>놀이 기구로도 사용할 수 있는 고양이 집</td>\n",
              "      <td>2020</td>\n",
              "      <td>특허</td>\n",
              "    </tr>\n",
              "    <tr>\n",
              "      <th>13148</th>\n",
              "      <td>폐지를 이용한 재생 제품의 제조방법</td>\n",
              "      <td>2020</td>\n",
              "      <td>특허</td>\n",
              "    </tr>\n",
              "    <tr>\n",
              "      <th>14274</th>\n",
              "      <td>아드레날린 수용체 조절 화합물 및 이의 사용 방법</td>\n",
              "      <td>2017</td>\n",
              "      <td>특허</td>\n",
              "    </tr>\n",
              "    <tr>\n",
              "      <th>7739</th>\n",
              "      <td>반려동물 천만 시대 한문철이 말하는 위험천만 동물사고 한블리</td>\n",
              "      <td>2022</td>\n",
              "      <td>뉴스</td>\n",
              "    </tr>\n",
              "    <tr>\n",
              "      <th>8418</th>\n",
              "      <td>반려동물 사료첨가제 제조 방법</td>\n",
              "      <td>2020</td>\n",
              "      <td>특허</td>\n",
              "    </tr>\n",
              "    <tr>\n",
              "      <th>8187</th>\n",
              "      <td>반려동물 이동 화장 장례서비스 문경서 첫 운영</td>\n",
              "      <td>2022</td>\n",
              "      <td>뉴스</td>\n",
              "    </tr>\n",
              "    <tr>\n",
              "      <th>1001</th>\n",
              "      <td>반려동물 아이템 어디까지 써봤니 25 양지사 반려동물 전용 다이어리 반</td>\n",
              "      <td>2020</td>\n",
              "      <td>뉴스</td>\n",
              "    </tr>\n",
              "    <tr>\n",
              "      <th>8211</th>\n",
              "      <td>팀장님 강아지 장례 치러야 해 휴가 좀 반려동물 복지 끝판왕 회사</td>\n",
              "      <td>2022</td>\n",
              "      <td>뉴스</td>\n",
              "    </tr>\n",
              "    <tr>\n",
              "      <th>5537</th>\n",
              "      <td>이주의 법안 주인 찾지 못하면 안락사 유기동물 구제할 법안은</td>\n",
              "      <td>2022</td>\n",
              "      <td>뉴스</td>\n",
              "    </tr>\n",
              "    <tr>\n",
              "      <th>4424</th>\n",
              "      <td>제천시 반려동물 동반 외출 안전조치 이행여부 점검</td>\n",
              "      <td>2021</td>\n",
              "      <td>뉴스</td>\n",
              "    </tr>\n",
              "    <tr>\n",
              "      <th>12370</th>\n",
              "      <td>애견용 견인줄</td>\n",
              "      <td>2014</td>\n",
              "      <td>특허</td>\n",
              "    </tr>\n",
              "    <tr>\n",
              "      <th>7203</th>\n",
              "      <td>반려동물 만성질환에 영양학적 관리 중요하다</td>\n",
              "      <td>2022</td>\n",
              "      <td>뉴스</td>\n",
              "    </tr>\n",
              "    <tr>\n",
              "      <th>5034</th>\n",
              "      <td>기고 알고 있나요 반려동물 응급처치 방법</td>\n",
              "      <td>2021</td>\n",
              "      <td>뉴스</td>\n",
              "    </tr>\n",
              "  </tbody>\n",
              "</table>\n",
              "</div>\n",
              "      <button class=\"colab-df-convert\" onclick=\"convertToInteractive('df-48e7b860-e900-48a1-8c1f-eaf3a31f581a')\"\n",
              "              title=\"Convert this dataframe to an interactive table.\"\n",
              "              style=\"display:none;\">\n",
              "        \n",
              "  <svg xmlns=\"http://www.w3.org/2000/svg\" height=\"24px\"viewBox=\"0 0 24 24\"\n",
              "       width=\"24px\">\n",
              "    <path d=\"M0 0h24v24H0V0z\" fill=\"none\"/>\n",
              "    <path d=\"M18.56 5.44l.94 2.06.94-2.06 2.06-.94-2.06-.94-.94-2.06-.94 2.06-2.06.94zm-11 1L8.5 8.5l.94-2.06 2.06-.94-2.06-.94L8.5 2.5l-.94 2.06-2.06.94zm10 10l.94 2.06.94-2.06 2.06-.94-2.06-.94-.94-2.06-.94 2.06-2.06.94z\"/><path d=\"M17.41 7.96l-1.37-1.37c-.4-.4-.92-.59-1.43-.59-.52 0-1.04.2-1.43.59L10.3 9.45l-7.72 7.72c-.78.78-.78 2.05 0 2.83L4 21.41c.39.39.9.59 1.41.59.51 0 1.02-.2 1.41-.59l7.78-7.78 2.81-2.81c.8-.78.8-2.07 0-2.86zM5.41 20L4 18.59l7.72-7.72 1.47 1.35L5.41 20z\"/>\n",
              "  </svg>\n",
              "      </button>\n",
              "      \n",
              "  <style>\n",
              "    .colab-df-container {\n",
              "      display:flex;\n",
              "      flex-wrap:wrap;\n",
              "      gap: 12px;\n",
              "    }\n",
              "\n",
              "    .colab-df-convert {\n",
              "      background-color: #E8F0FE;\n",
              "      border: none;\n",
              "      border-radius: 50%;\n",
              "      cursor: pointer;\n",
              "      display: none;\n",
              "      fill: #1967D2;\n",
              "      height: 32px;\n",
              "      padding: 0 0 0 0;\n",
              "      width: 32px;\n",
              "    }\n",
              "\n",
              "    .colab-df-convert:hover {\n",
              "      background-color: #E2EBFA;\n",
              "      box-shadow: 0px 1px 2px rgba(60, 64, 67, 0.3), 0px 1px 3px 1px rgba(60, 64, 67, 0.15);\n",
              "      fill: #174EA6;\n",
              "    }\n",
              "\n",
              "    [theme=dark] .colab-df-convert {\n",
              "      background-color: #3B4455;\n",
              "      fill: #D2E3FC;\n",
              "    }\n",
              "\n",
              "    [theme=dark] .colab-df-convert:hover {\n",
              "      background-color: #434B5C;\n",
              "      box-shadow: 0px 1px 3px 1px rgba(0, 0, 0, 0.15);\n",
              "      filter: drop-shadow(0px 1px 2px rgba(0, 0, 0, 0.3));\n",
              "      fill: #FFFFFF;\n",
              "    }\n",
              "  </style>\n",
              "\n",
              "      <script>\n",
              "        const buttonEl =\n",
              "          document.querySelector('#df-48e7b860-e900-48a1-8c1f-eaf3a31f581a button.colab-df-convert');\n",
              "        buttonEl.style.display =\n",
              "          google.colab.kernel.accessAllowed ? 'block' : 'none';\n",
              "\n",
              "        async function convertToInteractive(key) {\n",
              "          const element = document.querySelector('#df-48e7b860-e900-48a1-8c1f-eaf3a31f581a');\n",
              "          const dataTable =\n",
              "            await google.colab.kernel.invokeFunction('convertToInteractive',\n",
              "                                                     [key], {});\n",
              "          if (!dataTable) return;\n",
              "\n",
              "          const docLinkHtml = 'Like what you see? Visit the ' +\n",
              "            '<a target=\"_blank\" href=https://colab.research.google.com/notebooks/data_table.ipynb>data table notebook</a>'\n",
              "            + ' to learn more about interactive tables.';\n",
              "          element.innerHTML = '';\n",
              "          dataTable['output_type'] = 'display_data';\n",
              "          await google.colab.output.renderOutput(dataTable, element);\n",
              "          const docLink = document.createElement('div');\n",
              "          docLink.innerHTML = docLinkHtml;\n",
              "          element.appendChild(docLink);\n",
              "        }\n",
              "      </script>\n",
              "    </div>\n",
              "  </div>\n",
              "  "
            ]
          },
          "metadata": {},
          "execution_count": 24
        }
      ]
    },
    {
      "cell_type": "code",
      "source": [
        "# 앞선 2020-2022 데이터들을 모두 합쳐서 3년 동안 '반려동물' 뉴스 기사 데이터를 형성하겠습니다.\n",
        "\n",
        "all_news=pd.concat([news_2020, news_2021, news_2022])"
      ],
      "metadata": {
        "id": "GnHv5_NyiMVH"
      },
      "execution_count": null,
      "outputs": []
    },
    {
      "cell_type": "code",
      "source": [
        "all_news.shape"
      ],
      "metadata": {
        "colab": {
          "base_uri": "https://localhost:8080/"
        },
        "id": "nQhXO9iDbTxq",
        "outputId": "ca504bc5-2e00-42dd-f1a0-f6ddcc24ea3b"
      },
      "execution_count": null,
      "outputs": [
        {
          "output_type": "execute_result",
          "data": {
            "text/plain": [
              "(8518,)"
            ]
          },
          "metadata": {},
          "execution_count": 39
        }
      ]
    },
    {
      "cell_type": "code",
      "source": [
        "all_news"
      ],
      "metadata": {
        "colab": {
          "base_uri": "https://localhost:8080/"
        },
        "id": "4je6rm0lwwWE",
        "outputId": "7b1454ae-4309-4f6e-8c26-f87d5faf7bbc"
      },
      "execution_count": null,
      "outputs": [
        {
          "output_type": "execute_result",
          "data": {
            "text/plain": [
              "0                  은평구, 반려동물 문화교실 '댕댕이 스쿨' 운영\n",
              "1           새해부터 반려동물 미용사·나무의사도 신중년 고용장려금 받는다\n",
              "2                             반려식물로 코로나 우울 해소\n",
              "3                “우리 아이와 반려동물, 함께 생활해도 괜찮을까?”\n",
              "4       [영상]반려동물 식품의 세계화 \"정부지원 받아 글로벌기업으로 우뚝\"\n",
              "                        ...                  \n",
              "3995             美 펫푸드협회, 반려동물 장수 위한 펫푸드 팁 소개\n",
              "3996                수원시, 반려동물 문화교실 참여자 선착순 모집\n",
              "3997         정황근 장관 “반려동물산업・스마트팜 등 규제 대못 뽑겠다”\n",
              "3998                 반려동물 사고 예방 '펫티켓 운동' 확산돼야\n",
              "3999       임실군, 오수지구 도시재생 활성화…반려동물 친화 거점도시 조성\n",
              "Name: 0, Length: 8518, dtype: object"
            ]
          },
          "metadata": {},
          "execution_count": 40
        }
      ]
    },
    {
      "cell_type": "code",
      "source": [
        "df_all_news = all_news.to_frame(name=\"title\")\n",
        "df_all_news.head(10)"
      ],
      "metadata": {
        "colab": {
          "base_uri": "https://localhost:8080/",
          "height": 363
        },
        "id": "PodrmfXzvjSc",
        "outputId": "34dda958-1203-4776-ab3a-8dcc89fb2318"
      },
      "execution_count": null,
      "outputs": [
        {
          "output_type": "execute_result",
          "data": {
            "text/plain": [
              "                                   title\n",
              "0             은평구, 반려동물 문화교실 '댕댕이 스쿨' 운영\n",
              "1      새해부터 반려동물 미용사·나무의사도 신중년 고용장려금 받는다\n",
              "2                        반려식물로 코로나 우울 해소\n",
              "3           “우리 아이와 반려동물, 함께 생활해도 괜찮을까?”\n",
              "4  [영상]반려동물 식품의 세계화 \"정부지원 받아 글로벌기업으로 우뚝\"\n",
              "5    배스 사들여 반려동물식품 제조…빈집 고쳐 장기거주 사회주택 제공\n",
              "6     반려동물도 코로나블루? 쿠쿠전자 넬로, 팻케어 제품 수요 증가\n",
              "7           2021년부터 동물보호법 상 맹견은 책임보험 의무화\n",
              "8               [웰컴 투 펫팸] 반려동물도 쇼크로 쓰러진다\n",
              "9         지솔펫, 반려동물을 위한 살균·소독·향균 탈취제 선보여"
            ],
            "text/html": [
              "\n",
              "  <div id=\"df-82946301-afc6-435d-9d19-488bc97df1e1\">\n",
              "    <div class=\"colab-df-container\">\n",
              "      <div>\n",
              "<style scoped>\n",
              "    .dataframe tbody tr th:only-of-type {\n",
              "        vertical-align: middle;\n",
              "    }\n",
              "\n",
              "    .dataframe tbody tr th {\n",
              "        vertical-align: top;\n",
              "    }\n",
              "\n",
              "    .dataframe thead th {\n",
              "        text-align: right;\n",
              "    }\n",
              "</style>\n",
              "<table border=\"1\" class=\"dataframe\">\n",
              "  <thead>\n",
              "    <tr style=\"text-align: right;\">\n",
              "      <th></th>\n",
              "      <th>title</th>\n",
              "    </tr>\n",
              "  </thead>\n",
              "  <tbody>\n",
              "    <tr>\n",
              "      <th>0</th>\n",
              "      <td>은평구, 반려동물 문화교실 '댕댕이 스쿨' 운영</td>\n",
              "    </tr>\n",
              "    <tr>\n",
              "      <th>1</th>\n",
              "      <td>새해부터 반려동물 미용사·나무의사도 신중년 고용장려금 받는다</td>\n",
              "    </tr>\n",
              "    <tr>\n",
              "      <th>2</th>\n",
              "      <td>반려식물로 코로나 우울 해소</td>\n",
              "    </tr>\n",
              "    <tr>\n",
              "      <th>3</th>\n",
              "      <td>“우리 아이와 반려동물, 함께 생활해도 괜찮을까?”</td>\n",
              "    </tr>\n",
              "    <tr>\n",
              "      <th>4</th>\n",
              "      <td>[영상]반려동물 식품의 세계화 \"정부지원 받아 글로벌기업으로 우뚝\"</td>\n",
              "    </tr>\n",
              "    <tr>\n",
              "      <th>5</th>\n",
              "      <td>배스 사들여 반려동물식품 제조…빈집 고쳐 장기거주 사회주택 제공</td>\n",
              "    </tr>\n",
              "    <tr>\n",
              "      <th>6</th>\n",
              "      <td>반려동물도 코로나블루? 쿠쿠전자 넬로, 팻케어 제품 수요 증가</td>\n",
              "    </tr>\n",
              "    <tr>\n",
              "      <th>7</th>\n",
              "      <td>2021년부터 동물보호법 상 맹견은 책임보험 의무화</td>\n",
              "    </tr>\n",
              "    <tr>\n",
              "      <th>8</th>\n",
              "      <td>[웰컴 투 펫팸] 반려동물도 쇼크로 쓰러진다</td>\n",
              "    </tr>\n",
              "    <tr>\n",
              "      <th>9</th>\n",
              "      <td>지솔펫, 반려동물을 위한 살균·소독·향균 탈취제 선보여</td>\n",
              "    </tr>\n",
              "  </tbody>\n",
              "</table>\n",
              "</div>\n",
              "      <button class=\"colab-df-convert\" onclick=\"convertToInteractive('df-82946301-afc6-435d-9d19-488bc97df1e1')\"\n",
              "              title=\"Convert this dataframe to an interactive table.\"\n",
              "              style=\"display:none;\">\n",
              "        \n",
              "  <svg xmlns=\"http://www.w3.org/2000/svg\" height=\"24px\"viewBox=\"0 0 24 24\"\n",
              "       width=\"24px\">\n",
              "    <path d=\"M0 0h24v24H0V0z\" fill=\"none\"/>\n",
              "    <path d=\"M18.56 5.44l.94 2.06.94-2.06 2.06-.94-2.06-.94-.94-2.06-.94 2.06-2.06.94zm-11 1L8.5 8.5l.94-2.06 2.06-.94-2.06-.94L8.5 2.5l-.94 2.06-2.06.94zm10 10l.94 2.06.94-2.06 2.06-.94-2.06-.94-.94-2.06-.94 2.06-2.06.94z\"/><path d=\"M17.41 7.96l-1.37-1.37c-.4-.4-.92-.59-1.43-.59-.52 0-1.04.2-1.43.59L10.3 9.45l-7.72 7.72c-.78.78-.78 2.05 0 2.83L4 21.41c.39.39.9.59 1.41.59.51 0 1.02-.2 1.41-.59l7.78-7.78 2.81-2.81c.8-.78.8-2.07 0-2.86zM5.41 20L4 18.59l7.72-7.72 1.47 1.35L5.41 20z\"/>\n",
              "  </svg>\n",
              "      </button>\n",
              "      \n",
              "  <style>\n",
              "    .colab-df-container {\n",
              "      display:flex;\n",
              "      flex-wrap:wrap;\n",
              "      gap: 12px;\n",
              "    }\n",
              "\n",
              "    .colab-df-convert {\n",
              "      background-color: #E8F0FE;\n",
              "      border: none;\n",
              "      border-radius: 50%;\n",
              "      cursor: pointer;\n",
              "      display: none;\n",
              "      fill: #1967D2;\n",
              "      height: 32px;\n",
              "      padding: 0 0 0 0;\n",
              "      width: 32px;\n",
              "    }\n",
              "\n",
              "    .colab-df-convert:hover {\n",
              "      background-color: #E2EBFA;\n",
              "      box-shadow: 0px 1px 2px rgba(60, 64, 67, 0.3), 0px 1px 3px 1px rgba(60, 64, 67, 0.15);\n",
              "      fill: #174EA6;\n",
              "    }\n",
              "\n",
              "    [theme=dark] .colab-df-convert {\n",
              "      background-color: #3B4455;\n",
              "      fill: #D2E3FC;\n",
              "    }\n",
              "\n",
              "    [theme=dark] .colab-df-convert:hover {\n",
              "      background-color: #434B5C;\n",
              "      box-shadow: 0px 1px 3px 1px rgba(0, 0, 0, 0.15);\n",
              "      filter: drop-shadow(0px 1px 2px rgba(0, 0, 0, 0.3));\n",
              "      fill: #FFFFFF;\n",
              "    }\n",
              "  </style>\n",
              "\n",
              "      <script>\n",
              "        const buttonEl =\n",
              "          document.querySelector('#df-82946301-afc6-435d-9d19-488bc97df1e1 button.colab-df-convert');\n",
              "        buttonEl.style.display =\n",
              "          google.colab.kernel.accessAllowed ? 'block' : 'none';\n",
              "\n",
              "        async function convertToInteractive(key) {\n",
              "          const element = document.querySelector('#df-82946301-afc6-435d-9d19-488bc97df1e1');\n",
              "          const dataTable =\n",
              "            await google.colab.kernel.invokeFunction('convertToInteractive',\n",
              "                                                     [key], {});\n",
              "          if (!dataTable) return;\n",
              "\n",
              "          const docLinkHtml = 'Like what you see? Visit the ' +\n",
              "            '<a target=\"_blank\" href=https://colab.research.google.com/notebooks/data_table.ipynb>data table notebook</a>'\n",
              "            + ' to learn more about interactive tables.';\n",
              "          element.innerHTML = '';\n",
              "          dataTable['output_type'] = 'display_data';\n",
              "          await google.colab.output.renderOutput(dataTable, element);\n",
              "          const docLink = document.createElement('div');\n",
              "          docLink.innerHTML = docLinkHtml;\n",
              "          element.appendChild(docLink);\n",
              "        }\n",
              "      </script>\n",
              "    </div>\n",
              "  </div>\n",
              "  "
            ]
          },
          "metadata": {},
          "execution_count": 43
        }
      ]
    },
    {
      "cell_type": "markdown",
      "source": [
        "# 3. word2vec"
      ],
      "metadata": {
        "id": "h90O6ihJzhdT"
      }
    },
    {
      "cell_type": "code",
      "source": [
        "! pip install soynlp"
      ],
      "metadata": {
        "colab": {
          "base_uri": "https://localhost:8080/"
        },
        "id": "DcBi2mvsetua",
        "outputId": "6204b17c-8624-45a5-dca6-0f1a18cbb3c8"
      },
      "execution_count": null,
      "outputs": [
        {
          "output_type": "stream",
          "name": "stdout",
          "text": [
            "Looking in indexes: https://pypi.org/simple, https://us-python.pkg.dev/colab-wheels/public/simple/\n",
            "Collecting soynlp\n",
            "  Downloading soynlp-0.0.493-py3-none-any.whl (416 kB)\n",
            "\u001b[2K     \u001b[90m━━━━━━━━━━━━━━━━━━━━━━━━━━━━━━━━━━━━━━\u001b[0m \u001b[32m416.8/416.8 KB\u001b[0m \u001b[31m31.1 MB/s\u001b[0m eta \u001b[36m0:00:00\u001b[0m\n",
            "\u001b[?25hRequirement already satisfied: psutil>=5.0.1 in /usr/local/lib/python3.8/dist-packages (from soynlp) (5.4.8)\n",
            "Requirement already satisfied: numpy>=1.12.1 in /usr/local/lib/python3.8/dist-packages (from soynlp) (1.21.6)\n",
            "Requirement already satisfied: scipy>=1.1.0 in /usr/local/lib/python3.8/dist-packages (from soynlp) (1.7.3)\n",
            "Requirement already satisfied: scikit-learn>=0.20.0 in /usr/local/lib/python3.8/dist-packages (from soynlp) (1.0.2)\n",
            "Requirement already satisfied: joblib>=0.11 in /usr/local/lib/python3.8/dist-packages (from scikit-learn>=0.20.0->soynlp) (1.2.0)\n",
            "Requirement already satisfied: threadpoolctl>=2.0.0 in /usr/local/lib/python3.8/dist-packages (from scikit-learn>=0.20.0->soynlp) (3.1.0)\n",
            "Installing collected packages: soynlp\n",
            "Successfully installed soynlp-0.0.493\n"
          ]
        }
      ]
    },
    {
      "cell_type": "code",
      "source": [
        "from nltk.tokenize import word_tokenize, sent_tokenize\n",
        "from soynlp.tokenizer import RegexTokenizer\n",
        "from gensim.models import Word2Vec\n",
        "\n",
        "\n",
        "# RegexTokenizer 사용해 뉴스 기사 토크화\n",
        "tokenizer = RegexTokenizer()\n",
        "\n",
        "all_news_text = df_all_news[\"title\"].str.replace(\"[^ㄱ-ㅎㅏ-ㅣ가-힣 ]\",\"\")"
      ],
      "metadata": {
        "colab": {
          "base_uri": "https://localhost:8080/"
        },
        "id": "zL1nnEPlaOcd",
        "outputId": "664d97f3-f84d-4540-fa45-c2d43f6fbe3c"
      },
      "execution_count": null,
      "outputs": [
        {
          "output_type": "stream",
          "name": "stderr",
          "text": [
            "/usr/local/lib/python3.8/dist-packages/soynlp/tokenizer/_tokenizer.py:19: FutureWarning: Possible nested set at position 13\n",
            "  ('english & latin', re.compile(u\"[a-zA-ZÀ-ÿ]+[[`']?s]*|[a-zA-ZÀ-ÿ]+\", re.UNICODE))\n",
            "<ipython-input-46-b80d3ba385ce>:9: FutureWarning: The default value of regex will change from True to False in a future version.\n",
            "  all_news_text = df_all_news[\"title\"].str.replace(\"[^ㄱ-ㅎㅏ-ㅣ가-힣 ]\",\"\")\n"
          ]
        }
      ]
    },
    {
      "cell_type": "code",
      "source": [
        "# 한글 데이터 전처리\n",
        "\n",
        "tokens = all_news_text.apply(tokenizer.tokenize)\n",
        "tokens[:]"
      ],
      "metadata": {
        "colab": {
          "base_uri": "https://localhost:8080/"
        },
        "id": "5T5IlepIaRV2",
        "outputId": "18e9ae3e-cf58-4241-8168-2c811e06a80d"
      },
      "execution_count": null,
      "outputs": [
        {
          "output_type": "execute_result",
          "data": {
            "text/plain": [
              "0                  [은평구, 반려동물, 문화교실, 댕댕이, 스쿨, 운영]\n",
              "1         [새해부터, 반려동물, 미용사나무의사도, 신중년, 고용장려금, 받는다]\n",
              "2                            [반려식물로, 코로나, 우울, 해소]\n",
              "3                 [우리, 아이와, 반려동물, 함께, 생활해도, 괜찮을까]\n",
              "4       [영상반려동물, 식품의, 세계화, 정부지원, 받아, 글로벌기업으로, 우뚝]\n",
              "                          ...                    \n",
              "3995            [펫푸드협회, 반려동물, 장수, 위한, 펫푸드, 팁, 소개]\n",
              "3996              [수원시, 반려동물, 문화교실, 참여자, 선착순, 모집]\n",
              "3997        [정황근, 장관, 반려동물산업스마트팜, 등, 규제, 대못, 뽑겠다]\n",
              "3998                [반려동물, 사고, 예방, 펫티켓, 운동, 확산돼야]\n",
              "3999     [임실군, 오수지구, 도시재생, 활성화반려동물, 친화, 거점도시, 조성]\n",
              "Name: title, Length: 8518, dtype: object"
            ]
          },
          "metadata": {},
          "execution_count": 47
        }
      ]
    },
    {
      "cell_type": "code",
      "source": [
        "# 로그를 출력하기 위해 불러오기\n",
        "import logging\n",
        "logging.basicConfig(\n",
        "    format='%(asctime)s : %(levelname)s : %(message)s', \n",
        "    level=logging.INFO)\n",
        "     \n",
        "\n",
        "# 한국어 word2vec 모델에서 학습 알고리즘은 SG, 벡터 크기는 300, 윈도 크기는 5~10 사이가 최적이다. \n",
        "# http://journal.dcs.or.kr/xml/19540/19540.pdf 기반으로 패러미터 튜닝\n",
        "\n",
        "model = Word2Vec(sentences = tokens, size = 300, window = 5, min_count = 5, workers = 4, sg = 1)\n",
        "\n",
        "#size = 워드 벡터의 특징 값. 즉, 임베딩 된 벡터의 차원.\n",
        "#window = 컨텍스트 윈도우 크기\n",
        "#min_count = 단어 최소 빈도 수 제한 (빈도가 적은 단어들은 학습하지 않는다.)\n",
        "#workers = 학습을 위한 프로세스 수\n",
        "#sg = 0은 CBOW, 1은 Skip-gram."
      ],
      "metadata": {
        "colab": {
          "base_uri": "https://localhost:8080/"
        },
        "id": "vky4BlBHZ3V_",
        "outputId": "49017deb-db52-4ede-9bae-abf593f7c48c"
      },
      "execution_count": null,
      "outputs": [
        {
          "output_type": "stream",
          "name": "stderr",
          "text": [
            "WARNING:gensim.models.base_any2vec:under 10 jobs per worker: consider setting a smaller `batch_words' for smoother alpha decay\n"
          ]
        }
      ]
    },
    {
      "cell_type": "code",
      "source": [
        "# '펫케어' 관련 주요 키워드를 추출합니다.\n",
        "\n",
        "model.wv.most_similar(\"케어\")"
      ],
      "metadata": {
        "colab": {
          "base_uri": "https://localhost:8080/"
        },
        "id": "jstqmcTleCI_",
        "outputId": "54885257-d10e-41d2-d724-db4d5c6ffeab"
      },
      "execution_count": null,
      "outputs": [
        {
          "output_type": "execute_result",
          "data": {
            "text/plain": [
              "[('전용', 0.9996852874755859),\n",
              " ('사업', 0.9996600151062012),\n",
              " ('프리미엄', 0.9996575713157654),\n",
              " ('론칭', 0.9996506571769714),\n",
              " ('인구', 0.9996329545974731),\n",
              " ('산업', 0.9996204376220703),\n",
              " ('확대', 0.9996136426925659),\n",
              " ('전문', 0.9996094703674316),\n",
              " ('반려인', 0.9996078610420227),\n",
              " ('신규', 0.9995898008346558)]"
            ]
          },
          "metadata": {},
          "execution_count": 49
        }
      ]
    },
    {
      "cell_type": "code",
      "source": [
        "# '펫푸드' 관련 주요 키워드를 추출합니다.\n",
        "\n",
        "model.wv.most_similar(\"사료\")"
      ],
      "metadata": {
        "colab": {
          "base_uri": "https://localhost:8080/"
        },
        "id": "-bNFvtvieZYa",
        "outputId": "01276a2a-fa40-40c1-8cbc-2e678fc71eaf"
      },
      "execution_count": null,
      "outputs": [
        {
          "output_type": "execute_result",
          "data": {
            "text/plain": [
              "[('전용', 0.9995778799057007),\n",
              " ('사업', 0.9995766282081604),\n",
              " ('케어', 0.9995447993278503),\n",
              " ('확대', 0.9995428919792175),\n",
              " ('산업', 0.9995361566543579),\n",
              " ('테마파크', 0.9995120167732239),\n",
              " ('추진', 0.9995068907737732),\n",
              " ('강화', 0.9995059967041016),\n",
              " ('및', 0.9994856119155884),\n",
              " ('위해', 0.9994853138923645)]"
            ]
          },
          "metadata": {},
          "execution_count": 50
        }
      ]
    },
    {
      "cell_type": "code",
      "source": [
        "# '반려동물용품' 관련 주요 키워드를 추출합니다.\n",
        "\n",
        "model.wv.most_similar(\"용품\")"
      ],
      "metadata": {
        "colab": {
          "base_uri": "https://localhost:8080/"
        },
        "id": "z3sMdtbseZO8",
        "outputId": "e202ddf2-46f6-4790-dd94-d5378f09c3da"
      },
      "execution_count": null,
      "outputs": [
        {
          "output_type": "execute_result",
          "data": {
            "text/plain": [
              "[('날', 0.9998191595077515),\n",
              " ('일까지', 0.99980628490448),\n",
              " ('증정', 0.9998046159744263),\n",
              " ('반려생활', 0.999803364276886),\n",
              " ('증가에', 0.9997998476028442),\n",
              " ('서', 0.9997962713241577),\n",
              " ('이용', 0.999793529510498),\n",
              " ('키트', 0.9997920989990234),\n",
              " ('쇼핑몰', 0.9997912645339966),\n",
              " ('프로젝트', 0.9997910857200623)]"
            ]
          },
          "metadata": {},
          "execution_count": 51
        }
      ]
    },
    {
      "cell_type": "markdown",
      "source": [
        "위의 키워드를 펫산업 영역 별로 나눠주면 다음과 같은 결과를 도출할 수 있습니다. "
      ],
      "metadata": {
        "id": "9GIR5Ap8jJkG"
      }
    },
    {
      "cell_type": "markdown",
      "source": [
        "![image.png](data:image/png;base64,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)"
      ],
      "metadata": {
        "id": "gGgoK45djc0M"
      }
    }
  ]
}